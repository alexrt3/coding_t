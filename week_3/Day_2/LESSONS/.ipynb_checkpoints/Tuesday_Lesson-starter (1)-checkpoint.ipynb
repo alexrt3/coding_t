{
 "cells": [
  {
   "cell_type": "markdown",
   "metadata": {},
   "source": [
    "# Binary Search, Decorators, Dynamic Programming & Memoization"
   ]
  },
  {
   "cell_type": "markdown",
   "metadata": {},
   "source": [
    "## Tasks Today:\n",
    "\n",
    "1) <b>Binary Search</b> <br>\n",
    " &nbsp;&nbsp;&nbsp;&nbsp; a) How it Works <br>\n",
    " &nbsp;&nbsp;&nbsp;&nbsp; b) In-Class Exercise #1 <br>\n",
    "2) <b>Decorators</b> <br>\n",
    " &nbsp;&nbsp;&nbsp;&nbsp; a) Creating a Wrapper <br>\n",
    " &nbsp;&nbsp;&nbsp;&nbsp; b) The @ Symbol <br>\n",
    " &nbsp;&nbsp;&nbsp;&nbsp; c) Multiple Decorators <br>\n",
    " &nbsp;&nbsp;&nbsp;&nbsp; e) Saving a Decorator as a Variable <br>\n",
    " &nbsp;&nbsp;&nbsp;&nbsp; d) In-Class Exercise #2 <br>\n",
    "3) <b>Memoization</b> <br>\n",
    " &nbsp;&nbsp;&nbsp;&nbsp; a) Explicit Implementation <br>\n",
    " &nbsp;&nbsp;&nbsp;&nbsp; b) LRU_Cache <br>\n",
    " &nbsp;&nbsp;&nbsp;&nbsp; c) In-Class Exercise #3 <br>"
   ]
  },
  {
   "cell_type": "code",
   "execution_count": 1,
   "metadata": {},
   "outputs": [
    {
     "data": {
      "text/plain": [
       "[12, 73, 32, 2, 39, 96, 45, 4, 60, 88]"
      ]
     },
     "execution_count": 1,
     "metadata": {},
     "output_type": "execute_result"
    }
   ],
   "source": [
    "import random \n",
    "\n",
    "my_list = [random.randint(1, 100) for _ in range(10)]\n",
    "\n",
    "my_list"
   ]
  },
  {
   "cell_type": "markdown",
   "metadata": {},
   "source": [
    "## Binary Search <br>\n",
    "<p>Standard way of searching lists</p>"
   ]
  },
  {
   "cell_type": "code",
   "execution_count": null,
   "metadata": {},
   "outputs": [],
   "source": [
    "#It's a search algorithm that can only work if the list/iterable is sorted."
   ]
  },
  {
   "cell_type": "markdown",
   "metadata": {},
   "source": [
    "#### How it Works <br>\n",
    "<p>The Binary Search works by cutting a <b>SORTED</b> list in half and checking to see if it belongs in the first half or second half of the list, or if it is equal to the current middle index. If it is the current index it returns, but if it isn't, it then figures out if it belongs to the first half or second half of the list, then cuts that list in half, and repeats the process until it is either found or the list is 0</p>"
   ]
  },
  {
   "cell_type": "markdown",
   "metadata": {},
   "source": [
    "#### In-Class Exercise #1 <br>\n",
    "<p>Write a binary search algorithm</p>"
   ]
  },
  {
   "cell_type": "code",
   "execution_count": 5,
   "metadata": {},
   "outputs": [
    {
     "data": {
      "text/plain": [
       "[12, 73, 32, 2, 39, 96, 45, 4, 60, 88]"
      ]
     },
     "execution_count": 5,
     "metadata": {},
     "output_type": "execute_result"
    }
   ],
   "source": [
    "my_list"
   ]
  },
  {
   "cell_type": "code",
   "execution_count": 4,
   "metadata": {},
   "outputs": [
    {
     "data": {
      "text/plain": [
       "[2, 4, 12, 32, 39, 45, 60, 73, 88, 96]"
      ]
     },
     "execution_count": 4,
     "metadata": {},
     "output_type": "execute_result"
    }
   ],
   "source": [
    "def bubble_sort(my_list_copy):\n",
    "    my_list_copy = my_list_copy[:]\n",
    "    for i in range(len(my_list_copy) - 1):\n",
    "        for j in range(len(my_list_copy) - i - 1):\n",
    "            if my_list_copy[j] > my_list_copy[j+1]:\n",
    "                my_list_copy[j+1], my_list_copy[j] = my_list_copy[j], my_list_copy[j+1]\n",
    "    return my_list_copy\n",
    "\n",
    "bubble_sort(my_list)"
   ]
  },
  {
   "cell_type": "code",
   "execution_count": 9,
   "metadata": {
    "scrolled": true
   },
   "outputs": [
    {
     "name": "stdout",
     "output_type": "stream",
     "text": [
      "[2, 4, 12, 32, 39, 45, 60, 73, 88, 96]\n",
      "[45, 60, 73, 88, 96]\n",
      "[45, 60]\n"
     ]
    },
    {
     "data": {
      "text/plain": [
       "True"
      ]
     },
     "execution_count": 9,
     "metadata": {},
     "output_type": "execute_result"
    }
   ],
   "source": [
    "def binary_search(a_list, num):\n",
    "    a_list_copy = bubble_sort(a_list[:])\n",
    "    \n",
    "    while True:\n",
    "        print(a_list_copy)\n",
    "        \n",
    "        mid_idx = len(a_list_copy) // 2\n",
    "\n",
    "        # if the list has 1 or no values AND you're looking for is not found in the list, return True\n",
    "        if len(a_list_copy) <= 1 and a_list_copy[mid_idx] != num:\n",
    "            return False\n",
    "        # if the number we're looking for IS the value in the middle index, return True\n",
    "        elif num == a_list_copy[mid_idx]:\n",
    "            return True\n",
    "        # if the number is greater than the value in the middle index. delete the first half of list\n",
    "        elif num > a_list_copy[mid_idx]:\n",
    "            del a_list_copy[:mid_idx]\n",
    "        elif num < a_list_copy[mid_idx]:\n",
    "            del a_list_copy[mid_idx:]\n",
    "\n",
    "binary_search(my_list, 60)"
   ]
  },
  {
   "cell_type": "code",
   "execution_count": 11,
   "metadata": {},
   "outputs": [
    {
     "name": "stdout",
     "output_type": "stream",
     "text": [
      "T\n",
      "a\n",
      "t\n",
      "y\n",
      "a\n",
      "n\n",
      "a\n",
      "Tatyana\n",
      "D\n",
      "a\n",
      "n\n",
      "n\n",
      "y\n",
      "Danny\n",
      "S\n",
      "c\n",
      "o\n",
      "t\n",
      "t\n",
      "Scott\n",
      "H\n",
      "a\n",
      "m\n",
      "e\n",
      "d\n",
      "Hamed\n"
     ]
    }
   ],
   "source": [
    "names = [\"Tatyana\", \"Danny\", \"Scott\", \"Hamed\"]\n",
    "\n",
    "for name in names:\n",
    "    for letter in name:\n",
    "        print(letter)\n",
    "    print(name)"
   ]
  },
  {
   "cell_type": "markdown",
   "metadata": {},
   "source": [
    "## Decorators <br>\n",
    "<p>They are useful for wrapping functions, or adding more functionality to an already create function.</p>"
   ]
  },
  {
   "cell_type": "code",
   "execution_count": 13,
   "metadata": {},
   "outputs": [
    {
     "name": "stdout",
     "output_type": "stream",
     "text": [
      "I'm on my way to school\n"
     ]
    }
   ],
   "source": [
    "class Student:\n",
    "    @classmethod\n",
    "    def go_to_school(self):\n",
    "        print(\"I'm on my way to school\")\n",
    "        \n",
    "    def go_back_home(self):\n",
    "        print(\"I'm on the way back home.\")\n",
    "\n",
    "s = Student()\n",
    "\n",
    "s.go_to_school()"
   ]
  },
  {
   "cell_type": "code",
   "execution_count": 14,
   "metadata": {},
   "outputs": [
    {
     "name": "stdout",
     "output_type": "stream",
     "text": [
      "I'm on the way back home.\n"
     ]
    }
   ],
   "source": [
    "s.go_back_home()"
   ]
  },
  {
   "cell_type": "code",
   "execution_count": 15,
   "metadata": {},
   "outputs": [
    {
     "name": "stdout",
     "output_type": "stream",
     "text": [
      "I'm on my way to school\n"
     ]
    }
   ],
   "source": [
    "Student.go_to_school()"
   ]
  },
  {
   "cell_type": "code",
   "execution_count": 16,
   "metadata": {},
   "outputs": [
    {
     "ename": "TypeError",
     "evalue": "go_back_home() missing 1 required positional argument: 'self'",
     "output_type": "error",
     "traceback": [
      "\u001b[1;31m---------------------------------------------------------------------------\u001b[0m",
      "\u001b[1;31mTypeError\u001b[0m                                 Traceback (most recent call last)",
      "\u001b[1;32m<ipython-input-16-870b046271eb>\u001b[0m in \u001b[0;36m<module>\u001b[1;34m\u001b[0m\n\u001b[1;32m----> 1\u001b[1;33m \u001b[0mStudent\u001b[0m\u001b[1;33m.\u001b[0m\u001b[0mgo_back_home\u001b[0m\u001b[1;33m(\u001b[0m\u001b[1;33m)\u001b[0m\u001b[1;33m\u001b[0m\u001b[1;33m\u001b[0m\u001b[0m\n\u001b[0m",
      "\u001b[1;31mTypeError\u001b[0m: go_back_home() missing 1 required positional argument: 'self'"
     ]
    }
   ],
   "source": [
    "Student.go_back_home()  #classmethod can be accessed itself"
   ]
  },
  {
   "cell_type": "markdown",
   "metadata": {},
   "source": [
    "#### Creating a Wrapper"
   ]
  },
  {
   "cell_type": "code",
   "execution_count": 29,
   "metadata": {},
   "outputs": [
    {
     "ename": "SyntaxError",
     "evalue": "invalid syntax (<ipython-input-29-583c25b4f8c5>, line 8)",
     "output_type": "error",
     "traceback": [
      "\u001b[1;36m  File \u001b[1;32m\"<ipython-input-29-583c25b4f8c5>\"\u001b[1;36m, line \u001b[1;32m8\u001b[0m\n\u001b[1;33m    def decor(func)\u001b[0m\n\u001b[1;37m                   ^\u001b[0m\n\u001b[1;31mSyntaxError\u001b[0m\u001b[1;31m:\u001b[0m invalid syntax\n"
     ]
    }
   ],
   "source": [
    "def wrap(func):\n",
    "    def decorate():\n",
    "        print(\"=\" * 40)\n",
    "        func()\n",
    "        print(\"=\" * 40)\n",
    "    return decorate\n",
    "\n",
    "def decor(func):\n",
    "    def my_dec():\n",
    "        print(\"This is a decorator\")\n",
    "        func()\n",
    "    return my_dec\n",
    "\n",
    "# PRINTS, EXECUTES THE FUNCTION, THEN PRINTS AGAIN"
   ]
  },
  {
   "cell_type": "markdown",
   "metadata": {},
   "source": [
    "#### The @ Symbol"
   ]
  },
  {
   "cell_type": "code",
   "execution_count": 25,
   "metadata": {},
   "outputs": [
    {
     "name": "stdout",
     "output_type": "stream",
     "text": [
      "========================================\n",
      "I'm on the way back home.\n",
      "========================================\n"
     ]
    }
   ],
   "source": [
    "@wrap   \n",
    "def go_back_home():\n",
    "    print(\"I'm on the way back home.\")"
   ]
  },
  {
   "cell_type": "markdown",
   "metadata": {},
   "source": [
    "#### Multiple Decorators"
   ]
  },
  {
   "cell_type": "code",
   "execution_count": 31,
   "metadata": {},
   "outputs": [
    {
     "name": "stdout",
     "output_type": "stream",
     "text": [
      "This is a decorator\n",
      "========================================\n",
      "Hello\n",
      "========================================\n"
     ]
    }
   ],
   "source": [
    "@decor\n",
    "@wrap\n",
    "def print_greeting():\n",
    "    print(\"Hello\")\n",
    "    \n",
    "print_greeting()"
   ]
  },
  {
   "cell_type": "markdown",
   "metadata": {},
   "source": [
    "#### Saving a Decorator as a Variable"
   ]
  },
  {
   "cell_type": "code",
   "execution_count": 35,
   "metadata": {},
   "outputs": [
    {
     "name": "stdout",
     "output_type": "stream",
     "text": [
      "========================================\n",
      "This is a decorator\n",
      "========================================\n",
      "Hello\n",
      "========================================\n",
      "========================================\n"
     ]
    }
   ],
   "source": [
    "my_text = wrap(print_greeting)\n",
    "\n",
    "my_text()"
   ]
  },
  {
   "cell_type": "markdown",
   "metadata": {},
   "source": [
    "#### In-Class Exercise #2 <br>\n",
    "<p>Create a decorator that will put a border around all four sides of a function, which returns '2 + 2 = 4'</p>"
   ]
  },
  {
   "cell_type": "code",
   "execution_count": 48,
   "metadata": {},
   "outputs": [
    {
     "name": "stdout",
     "output_type": "stream",
     "text": [
      "==============================\n",
      "||        2 + 2 = 4         ||\n",
      "==============================\n"
     ]
    },
    {
     "data": {
      "text/plain": [
       "<function __main__.add_num()>"
      ]
     },
     "execution_count": 48,
     "metadata": {},
     "output_type": "execute_result"
    }
   ],
   "source": [
    "def wrap(func):\n",
    "    print('=' * 30)\n",
    "    add_num()\n",
    "    print('=' * 30)\n",
    "    return add_num\n",
    "    \n",
    "def add_num():\n",
    "    print('||        2 + 2 = 4         ||')\n",
    "    \n",
    "\n",
    "wrap(add_num)"
   ]
  },
  {
   "cell_type": "code",
   "execution_count": 49,
   "metadata": {
    "scrolled": true
   },
   "outputs": [
    {
     "data": {
      "text/plain": [
       "[12, 73, 32, 2, 39, 96, 45, 4, 60, 88]"
      ]
     },
     "execution_count": 49,
     "metadata": {},
     "output_type": "execute_result"
    }
   ],
   "source": [
    "my_list"
   ]
  },
  {
   "cell_type": "code",
   "execution_count": 52,
   "metadata": {},
   "outputs": [
    {
     "data": {
      "text/plain": [
       "[144, 5329, 1024, 4, 1521, 9216, 2025, 16, 3600, 7744]"
      ]
     },
     "execution_count": 52,
     "metadata": {},
     "output_type": "execute_result"
    }
   ],
   "source": [
    "def create_stuff():\n",
    "    for num in my_list:\n",
    "        yield num**2\n",
    "        \n",
    "l1 = create_stuff()\n",
    "list(l1)"
   ]
  },
  {
   "cell_type": "markdown",
   "metadata": {},
   "source": [
    "## Memoization <br>\n",
    "<p>Store values for recent function calls so that we can speed up the process</p>"
   ]
  },
  {
   "cell_type": "code",
   "execution_count": 55,
   "metadata": {
    "scrolled": true
   },
   "outputs": [
    {
     "name": "stdout",
     "output_type": "stream",
     "text": [
      "1: 1\n",
      "2: 1\n",
      "3: 2\n",
      "4: 3\n",
      "5: 5\n",
      "6: 8\n",
      "7: 13\n",
      "8: 21\n",
      "9: 34\n",
      "10: 55\n",
      "11: 89\n",
      "12: 144\n",
      "13: 233\n",
      "14: 377\n",
      "15: 610\n",
      "16: 987\n",
      "17: 1597\n",
      "18: 2584\n",
      "19: 4181\n",
      "20: 6765\n",
      "21: 10946\n",
      "22: 17711\n",
      "23: 28657\n",
      "24: 46368\n",
      "25: 75025\n",
      "26: 121393\n",
      "27: 196418\n",
      "28: 317811\n",
      "29: 514229\n",
      "30: 832040\n",
      "31: 1346269\n",
      "32: 2178309\n",
      "33: 3524578\n",
      "34: 5702887\n",
      "35: 9227465\n"
     ]
    }
   ],
   "source": [
    "def fib(n):\n",
    "    if n <= 1:\n",
    "        return 1\n",
    "    else:\n",
    "        return fib(n-1) + fib(n-2)\n",
    "\n",
    "for i in range(35):\n",
    "    print(f'{i+1}: {fib(i)}') "
   ]
  },
  {
   "cell_type": "markdown",
   "metadata": {},
   "source": [
    "#### Explicit Implementation <br>\n",
    "<p>Creating our own memoization technique</p>"
   ]
  },
  {
   "cell_type": "code",
   "execution_count": 62,
   "metadata": {},
   "outputs": [
    {
     "name": "stdout",
     "output_type": "stream",
     "text": [
      "1: 1\n",
      "2: 1\n",
      "3: 2\n",
      "4: 3\n",
      "5: 5\n",
      "6: 8\n",
      "7: 13\n",
      "8: 21\n",
      "9: 34\n",
      "10: 55\n",
      "11: 89\n",
      "12: 144\n",
      "13: 233\n",
      "14: 377\n",
      "15: 610\n",
      "16: 987\n",
      "17: 1597\n",
      "18: 2584\n",
      "19: 4181\n",
      "20: 6765\n"
     ]
    }
   ],
   "source": [
    "# Creating a dictionary that stores those values and then the dictioanry bcomes what stores all the values and memory.\n",
    "# Not our temporary storage\n",
    "\n",
    "fibs_cache = {}\n",
    "def fib(n):\n",
    "    #check if fib(n) is in fibs\n",
    "    if n in fibs_cache:         \n",
    "        return fibs_cache[n]\n",
    "\n",
    "    if n <= 1:\n",
    "        value = 1\n",
    "    else:\n",
    "        value = fib(n-1) + fib(n-2)\n",
    "        \n",
    "    #add fib(n) to fibs_cache dictionary after calculating the value\n",
    "    fibs_cache[n] = value\n",
    "    return value\n",
    "    \n",
    "# fibs_cache = {\n",
    "#     1: 1,\n",
    "#     2: 1,\n",
    "#     3: 2\n",
    "# }\n",
    "\n",
    "for i in range(20):\n",
    "    print(f'{i+1}: {fib(i)}') "
   ]
  },
  {
   "cell_type": "markdown",
   "metadata": {},
   "source": [
    "#### LRU_Cache <br>\n",
    "<p>Stands for least recently used cache</p>"
   ]
  },
  {
   "cell_type": "code",
   "execution_count": 67,
   "metadata": {},
   "outputs": [
    {
     "name": "stdout",
     "output_type": "stream",
     "text": [
      "1: 1\n",
      "2: 1\n",
      "3: 2\n",
      "4: 3\n",
      "5: 5\n",
      "6: 8\n",
      "7: 13\n",
      "8: 21\n",
      "9: 34\n",
      "10: 55\n",
      "11: 89\n",
      "12: 144\n",
      "13: 233\n",
      "14: 377\n",
      "15: 610\n",
      "16: 987\n",
      "17: 1597\n",
      "18: 2584\n",
      "19: 4181\n",
      "20: 6765\n",
      "21: 10946\n",
      "22: 17711\n",
      "23: 28657\n",
      "24: 46368\n",
      "25: 75025\n",
      "26: 121393\n",
      "27: 196418\n",
      "28: 317811\n",
      "29: 514229\n",
      "30: 832040\n",
      "31: 1346269\n",
      "32: 2178309\n",
      "33: 3524578\n",
      "34: 5702887\n",
      "35: 9227465\n",
      "36: 14930352\n",
      "37: 24157817\n",
      "38: 39088169\n",
      "39: 63245986\n",
      "40: 102334155\n",
      "41: 165580141\n",
      "42: 267914296\n",
      "43: 433494437\n",
      "44: 701408733\n",
      "45: 1134903170\n",
      "46: 1836311903\n",
      "47: 2971215073\n",
      "48: 4807526976\n",
      "49: 7778742049\n",
      "50: 12586269025\n",
      "51: 20365011074\n",
      "52: 32951280099\n",
      "53: 53316291173\n",
      "54: 86267571272\n",
      "55: 139583862445\n",
      "56: 225851433717\n",
      "57: 365435296162\n",
      "58: 591286729879\n",
      "59: 956722026041\n",
      "60: 1548008755920\n",
      "61: 2504730781961\n",
      "62: 4052739537881\n",
      "63: 6557470319842\n",
      "64: 10610209857723\n",
      "65: 17167680177565\n",
      "66: 27777890035288\n",
      "67: 44945570212853\n",
      "68: 72723460248141\n",
      "69: 117669030460994\n",
      "70: 190392490709135\n",
      "71: 308061521170129\n",
      "72: 498454011879264\n",
      "73: 806515533049393\n",
      "74: 1304969544928657\n",
      "75: 2111485077978050\n",
      "76: 3416454622906707\n",
      "77: 5527939700884757\n",
      "78: 8944394323791464\n",
      "79: 14472334024676221\n",
      "80: 23416728348467685\n",
      "81: 37889062373143906\n",
      "82: 61305790721611591\n",
      "83: 99194853094755497\n",
      "84: 160500643816367088\n",
      "85: 259695496911122585\n",
      "86: 420196140727489673\n",
      "87: 679891637638612258\n",
      "88: 1100087778366101931\n",
      "89: 1779979416004714189\n",
      "90: 2880067194370816120\n",
      "91: 4660046610375530309\n",
      "92: 7540113804746346429\n",
      "93: 12200160415121876738\n",
      "94: 19740274219868223167\n",
      "95: 31940434634990099905\n",
      "96: 51680708854858323072\n",
      "97: 83621143489848422977\n",
      "98: 135301852344706746049\n",
      "99: 218922995834555169026\n",
      "100: 354224848179261915075\n",
      "101: 573147844013817084101\n",
      "102: 927372692193078999176\n",
      "103: 1500520536206896083277\n",
      "104: 2427893228399975082453\n",
      "105: 3928413764606871165730\n",
      "106: 6356306993006846248183\n",
      "107: 10284720757613717413913\n",
      "108: 16641027750620563662096\n",
      "109: 26925748508234281076009\n",
      "110: 43566776258854844738105\n",
      "111: 70492524767089125814114\n",
      "112: 114059301025943970552219\n",
      "113: 184551825793033096366333\n",
      "114: 298611126818977066918552\n",
      "115: 483162952612010163284885\n",
      "116: 781774079430987230203437\n",
      "117: 1264937032042997393488322\n",
      "118: 2046711111473984623691759\n",
      "119: 3311648143516982017180081\n",
      "120: 5358359254990966640871840\n",
      "121: 8670007398507948658051921\n",
      "122: 14028366653498915298923761\n",
      "123: 22698374052006863956975682\n",
      "124: 36726740705505779255899443\n",
      "125: 59425114757512643212875125\n",
      "126: 96151855463018422468774568\n",
      "127: 155576970220531065681649693\n",
      "128: 251728825683549488150424261\n",
      "129: 407305795904080553832073954\n",
      "130: 659034621587630041982498215\n",
      "131: 1066340417491710595814572169\n",
      "132: 1725375039079340637797070384\n",
      "133: 2791715456571051233611642553\n",
      "134: 4517090495650391871408712937\n",
      "135: 7308805952221443105020355490\n",
      "136: 11825896447871834976429068427\n",
      "137: 19134702400093278081449423917\n",
      "138: 30960598847965113057878492344\n",
      "139: 50095301248058391139327916261\n",
      "140: 81055900096023504197206408605\n",
      "141: 131151201344081895336534324866\n",
      "142: 212207101440105399533740733471\n",
      "143: 343358302784187294870275058337\n",
      "144: 555565404224292694404015791808\n",
      "145: 898923707008479989274290850145\n",
      "146: 1454489111232772683678306641953\n",
      "147: 2353412818241252672952597492098\n",
      "148: 3807901929474025356630904134051\n",
      "149: 6161314747715278029583501626149\n",
      "150: 9969216677189303386214405760200\n",
      "151: 16130531424904581415797907386349\n",
      "152: 26099748102093884802012313146549\n",
      "153: 42230279526998466217810220532898\n",
      "154: 68330027629092351019822533679447\n",
      "155: 110560307156090817237632754212345\n",
      "156: 178890334785183168257455287891792\n",
      "157: 289450641941273985495088042104137\n",
      "158: 468340976726457153752543329995929\n",
      "159: 757791618667731139247631372100066\n",
      "160: 1226132595394188293000174702095995\n",
      "161: 1983924214061919432247806074196061\n",
      "162: 3210056809456107725247980776292056\n",
      "163: 5193981023518027157495786850488117\n",
      "164: 8404037832974134882743767626780173\n",
      "165: 13598018856492162040239554477268290\n",
      "166: 22002056689466296922983322104048463\n",
      "167: 35600075545958458963222876581316753\n",
      "168: 57602132235424755886206198685365216\n",
      "169: 93202207781383214849429075266681969\n",
      "170: 150804340016807970735635273952047185\n",
      "171: 244006547798191185585064349218729154\n",
      "172: 394810887814999156320699623170776339\n",
      "173: 638817435613190341905763972389505493\n",
      "174: 1033628323428189498226463595560281832\n",
      "175: 1672445759041379840132227567949787325\n",
      "176: 2706074082469569338358691163510069157\n",
      "177: 4378519841510949178490918731459856482\n",
      "178: 7084593923980518516849609894969925639\n",
      "179: 11463113765491467695340528626429782121\n",
      "180: 18547707689471986212190138521399707760\n",
      "181: 30010821454963453907530667147829489881\n",
      "182: 48558529144435440119720805669229197641\n",
      "183: 78569350599398894027251472817058687522\n",
      "184: 127127879743834334146972278486287885163\n",
      "185: 205697230343233228174223751303346572685\n",
      "186: 332825110087067562321196029789634457848\n",
      "187: 538522340430300790495419781092981030533\n",
      "188: 871347450517368352816615810882615488381\n",
      "189: 1409869790947669143312035591975596518914\n",
      "190: 2281217241465037496128651402858212007295\n",
      "191: 3691087032412706639440686994833808526209\n",
      "192: 5972304273877744135569338397692020533504\n",
      "193: 9663391306290450775010025392525829059713\n",
      "194: 15635695580168194910579363790217849593217\n",
      "195: 25299086886458645685589389182743678652930\n",
      "196: 40934782466626840596168752972961528246147\n",
      "197: 66233869353085486281758142155705206899077\n",
      "198: 107168651819712326877926895128666735145224\n",
      "199: 173402521172797813159685037284371942044301\n",
      "200: 280571172992510140037611932413038677189525\n"
     ]
    }
   ],
   "source": [
    "from functools import lru_cache  #lru_cache is a decorator @lru_cache(maxsize=9) <-- max size means # of iterations\n",
    "\n",
    "@lru_cache(maxsize=3)\n",
    "def fib(n):\n",
    "    if n <= 1:\n",
    "        return 1\n",
    "    else:\n",
    "        return fib(n-1) + fib(n - 2)\n",
    "        \n",
    "for i in range(200):\n",
    "    print(f'{i+1}: {fib(i)}') "
   ]
  },
  {
   "cell_type": "markdown",
   "metadata": {},
   "source": [
    "#### In-Class Exercise #3 <br>\n",
    "<p>Create a recursive function that returns the multiplication of n and n - 1 using lru_cache.</p>"
   ]
  },
  {
   "cell_type": "code",
   "execution_count": null,
   "metadata": {},
   "outputs": [],
   "source": []
  }
 ],
 "metadata": {
  "kernelspec": {
   "display_name": "Python 3",
   "language": "python",
   "name": "python3"
  },
  "language_info": {
   "codemirror_mode": {
    "name": "ipython",
    "version": 3
   },
   "file_extension": ".py",
   "mimetype": "text/x-python",
   "name": "python",
   "nbconvert_exporter": "python",
   "pygments_lexer": "ipython3",
   "version": "3.9.1"
  }
 },
 "nbformat": 4,
 "nbformat_minor": 2
}
