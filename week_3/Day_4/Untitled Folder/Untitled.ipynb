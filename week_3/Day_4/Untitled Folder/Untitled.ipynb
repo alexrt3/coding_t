{
 "cells": [
  {
   "cell_type": "markdown",
   "id": "cardiac-category",
   "metadata": {},
   "source": [
    "##### Find Palindrome\n",
    "Given a string of lowercase letters, write a function to see if the word is a palindrome (the same word spelled forward and backwards).\n",
    "Example Input: ‘racecar’\n",
    "Example Output: True\n"
   ]
  },
  {
   "cell_type": "code",
   "execution_count": 4,
   "id": "august-threshold",
   "metadata": {},
   "outputs": [
    {
     "data": {
      "text/plain": [
       "False"
      ]
     },
     "execution_count": 4,
     "metadata": {},
     "output_type": "execute_result"
    }
   ],
   "source": [
    "def palindrome(word):\n",
    "    if word == word[::-1]:\n",
    "        return True\n",
    "    else:\n",
    "        return False\n",
    "    \n",
    "palindrome('apple')"
   ]
  },
  {
   "cell_type": "code",
   "execution_count": null,
   "id": "determined-perspective",
   "metadata": {},
   "outputs": [],
   "source": []
  }
 ],
 "metadata": {
  "kernelspec": {
   "display_name": "Python 3",
   "language": "python",
   "name": "python3"
  },
  "language_info": {
   "codemirror_mode": {
    "name": "ipython",
    "version": 3
   },
   "file_extension": ".py",
   "mimetype": "text/x-python",
   "name": "python",
   "nbconvert_exporter": "python",
   "pygments_lexer": "ipython3",
   "version": "3.9.1"
  }
 },
 "nbformat": 4,
 "nbformat_minor": 5
}
