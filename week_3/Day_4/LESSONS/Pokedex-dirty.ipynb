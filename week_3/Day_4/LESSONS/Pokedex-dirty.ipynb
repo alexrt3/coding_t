{
 "cells": [
  {
   "cell_type": "code",
   "execution_count": 3,
   "id": "bizarre-peoples",
   "metadata": {},
   "outputs": [
    {
     "name": "stdout",
     "output_type": "stream",
     "text": [
      "Help on built-in function setattr in module builtins:\n",
      "\n",
      "setattr(obj, name, value, /)\n",
      "    Sets the named attribute on the given object to the specified value.\n",
      "    \n",
      "    setattr(x, 'y', v) is equivalent to ``x.y = v''\n",
      "\n"
     ]
    }
   ],
   "source": [
    "help(setattr)"
   ]
  },
  {
   "cell_type": "code",
   "execution_count": 32,
   "id": "expired-audit",
   "metadata": {
    "scrolled": true
   },
   "outputs": [],
   "source": [
    "import requests, pprint\n",
    "from IPython.display import clear_output as co\n",
    "\n",
    "pp = pprint.PrettyPrinter(indent=4)\n",
    "# pp.print()\n",
    "\n",
    "class Pokemon:\n",
    "    def __init__(self, name=None, abilities=None, types=None, height=None, weight=None):\n",
    "        self.name = name\n",
    "        if abilities is None:\n",
    "            self.abilities = []\n",
    "        else:\n",
    "            self.abilities = abilities\n",
    "        if types is None:\n",
    "            self.types = []\n",
    "        else:\n",
    "            self.types = types\n",
    "        self.height = height\n",
    "        self.weight = weight\n",
    "        \n",
    "    # building an object from a dictionary\n",
    "    # Miguel Grinberg - The Flask Mega Tutorial\n",
    "    # p.name, p.abilities, ...\n",
    "    # {\n",
    "    #    'name': '...',\n",
    "    #    'abilities': '...'\n",
    "    # }\n",
    "    def from_dict(self, data):\n",
    "        for field in ['name', 'abilities', 'types', 'height', 'weight']:\n",
    "            # set the attribute equal to whichever value corresponds to the key\n",
    "            setattr(self, field, data[field])\n",
    "            \n",
    "    def __repr__(self):\n",
    "        return f'<Pokemon: {self.name}>'\n",
    "    \n",
    "    def __str__(self):\n",
    "        return f'{self.name}'\n",
    "        \n",
    "\n",
    "class Pokedex:\n",
    "    _list = []\n",
    "    \n",
    "    @classmethod\n",
    "    def instructions(self):\n",
    "        print(\"\"\"Type 'show' to view all Pokemon in your Pokedex.\n",
    "Type 'sort' to view a categorized list of your Pokedex.\n",
    "Type 'quit' to exit program.\"\"\")\n",
    "        \n",
    "    @classmethod\n",
    "    def show(self):\n",
    "        if Pokedex._list:\n",
    "            for i in Pokedex._list:\n",
    "                print(i)\n",
    "        else:\n",
    "            print('You need to add Pokemon into your Pokedex... Looking a little dry right now. ')\n",
    "        input('Press any key to continue... ')\n",
    "    \n",
    "    @classmethod\n",
    "    def standardize(self):\n",
    "        standardized_dict = {}\n",
    "        for p in Pokedex._list:\n",
    "            for t in p.types:\n",
    "                if t not in standardized_dict:\n",
    "                    standardized_dict[t] = {}\n",
    "        for p in Pokedex._list:\n",
    "            # If a Pokemon has multiple types\n",
    "            for t in p.types:\n",
    "                # Create a Pokemon dictionary for every type they belong to.\n",
    "                if p.name not in standardized_dict[t]:\n",
    "                    poke_data = {\n",
    "                        p.name: {\n",
    "                            'abilities': p.abilities,\n",
    "                            'height': p.height,\n",
    "                            'weight': p.weight\n",
    "                        }\n",
    "                    }\n",
    "                    standardized_dict[t].update(poke_data)\n",
    "                else:\n",
    "                    print('That Pokemon already exists.')\n",
    "        pp.pprint(standardized_dict)\n",
    "        input('Press any key to continue... ')\n",
    "    \n",
    "    @classmethod\n",
    "    def populate(self, p_name):\n",
    "        # Check if the Pokemon we want to add add has already been found in the Pokedex\n",
    "        if Pokedex._list:\n",
    "            for p in Pokedex._list:\n",
    "                if p_name.title() == p.name:\n",
    "                    input('That Pokemon already exists. Try another one... ')\n",
    "                    return\n",
    "        try:\n",
    "            # Connect to https://pokeapi.co\n",
    "            print('Please wait while we populate your Pokedex...')\n",
    "            res = requests.get(f'https://pokeapi.co/api/v2/pokemon/{p_name.lower()}').json()\n",
    "            p = Pokemon()\n",
    "            # Build the dictionary to create the new Pokemon\n",
    "            data = {\n",
    "                'name': res['name'].title(),\n",
    "                'abilities': [a['ability']['name'].title() for a in res['abilities']],\n",
    "                'types': [t['type']['name'] for t in res['types']],\n",
    "                'height': res['height'],\n",
    "                'weight': res['weight']\n",
    "            }\n",
    "            p.from_dict(data)\n",
    "            # Add it to the _list\n",
    "            Pokedex._list.append(p)\n",
    "        except:\n",
    "            input('There was an error populating your Pokedex. True again. ')\n",
    "        \n",
    "    \n",
    "    @classmethod\n",
    "    def run(self):\n",
    "        end = False\n",
    "        input('Welcome to Python Pokedex. Press any key to continue... ')\n",
    "        while not end:\n",
    "            co()\n",
    "            self.instructions()\n",
    "            name = input(\"Type in the name of a Pokemon to populate your Pokedex. \").lower()\n",
    "            if name == 'quit':\n",
    "                self.populate('Raichu')\n",
    "                end = True\n",
    "                return\n",
    "            elif name == 'show':\n",
    "                Pokedex.show()\n",
    "            elif name == 'sort':\n",
    "                Pokedex.standardize()\n",
    "            else:\n",
    "                Pokedex.populate(name)"
   ]
  },
  {
   "cell_type": "code",
   "execution_count": null,
   "id": "brazilian-latest",
   "metadata": {},
   "outputs": [
    {
     "name": "stdout",
     "output_type": "stream",
     "text": [
      "Type 'show' to view all Pokemon in your Pokedex.\n",
      "Type 'sort' to view a categorized list of your Pokedex.\n",
      "Type 'quit' to exit program.\n",
      "Type in the name of a Pokemon to populate your Pokedex. quit\n"
     ]
    }
   ],
   "source": [
    "Pokedex.run()"
   ]
  },
  {
   "cell_type": "code",
   "execution_count": null,
   "id": "contrary-deficit",
   "metadata": {},
   "outputs": [],
   "source": [
    "# p = Pokemon()\n",
    "# p_data = {\n",
    "#     'name': 'Charizard',\n",
    "#     'abilities': ['a', 'b'],\n",
    "#     'types': ['c', 'd'],\n",
    "#     'height': 5,\n",
    "#     'weight': 17\n",
    "# }\n",
    "# p.from_dict(p_data)\n",
    "# print(p)"
   ]
  },
  {
   "cell_type": "code",
   "execution_count": null,
   "id": "entire-dryer",
   "metadata": {},
   "outputs": [],
   "source": [
    "p.name = \"Charmander\"\n",
    "\n",
    "setattr(p, 'name', 'Charmander')"
   ]
  },
  {
   "cell_type": "code",
   "execution_count": 27,
   "id": "senior-amount",
   "metadata": {},
   "outputs": [
    {
     "name": "stdout",
     "output_type": "stream",
     "text": [
      "True\n"
     ]
    }
   ],
   "source": [
    "# Pokedex._list = [\"charmander.type = fire\", \"charmander.type = flying\", \"pikachu.type = electricity\"]\n",
    "\n",
    "new_dict = {\n",
    "    'qwerty': 'keyboard',\n",
    "    'operation_system': 'Mac'\n",
    "}\n",
    "category_dict = {}\n",
    "if 'qwerty' in new_dict:\n",
    "    print(True)\n",
    "    \n",
    "category_dict['fire'] = {\n",
    "    'Charmander': {\n",
    "        'height':,\n",
    "        'weight'\n",
    "    }\n",
    "}"
   ]
  }
 ],
 "metadata": {
  "kernelspec": {
   "display_name": "Python 3",
   "language": "python",
   "name": "python3"
  },
  "language_info": {
   "codemirror_mode": {
    "name": "ipython",
    "version": 3
   },
   "file_extension": ".py",
   "mimetype": "text/x-python",
   "name": "python",
   "nbconvert_exporter": "python",
   "pygments_lexer": "ipython3",
   "version": "3.9.1"
  }
 },
 "nbformat": 4,
 "nbformat_minor": 5
}
