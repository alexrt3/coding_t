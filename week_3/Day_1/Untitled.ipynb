{
 "cells": [
  {
   "cell_type": "code",
   "execution_count": null,
   "id": "incomplete-insured",
   "metadata": {},
   "outputs": [],
   "source": [
    "def remove_vowel(initial_string, vowel_list):\n",
    "    final_string = []\n",
    "    for value in initial_string:\n",
    "        if value in vowel_list:\n",
    "            continue\n",
    "        else:\n",
    "            final_string.append(value)\n",
    "    return ''.join(final_string)\n",
    "    \n",
    "    \n",
    "    \n",
    "    \n",
    "def remove_vowels(initial_string, vowel_list):\n",
    "    final_string = []\n",
    "    for value in initial_string:\n",
    "        if value in vowel_list:\n",
    "            continue\n",
    "        else:\n",
    "            final_string.append(value)\n",
    "    return ‘’.join(final_string)"
   ]
  }
 ],
 "metadata": {
  "kernelspec": {
   "display_name": "Python 3",
   "language": "python",
   "name": "python3"
  },
  "language_info": {
   "codemirror_mode": {
    "name": "ipython",
    "version": 3
   },
   "file_extension": ".py",
   "mimetype": "text/x-python",
   "name": "python",
   "nbconvert_exporter": "python",
   "pygments_lexer": "ipython3",
   "version": "3.9.1"
  }
 },
 "nbformat": 4,
 "nbformat_minor": 5
}
