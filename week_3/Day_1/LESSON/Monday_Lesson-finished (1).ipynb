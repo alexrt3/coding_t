{
 "cells": [
  {
   "cell_type": "markdown",
   "metadata": {},
   "source": [
    "# Map, Filter, Reduce, Lambda & Recursion"
   ]
  },
  {
   "cell_type": "markdown",
   "metadata": {},
   "source": [
    "## Tasks Today:\n",
    "\n",
    "1) <b>Lambda Functions</b> <br>\n",
    " &nbsp;&nbsp;&nbsp;&nbsp; a) Syntax <br>\n",
    " &nbsp;&nbsp;&nbsp;&nbsp; b) Saving to a Variable <br>\n",
    " &nbsp;&nbsp;&nbsp;&nbsp; c) Multiple Inputs <br>\n",
    " &nbsp;&nbsp;&nbsp;&nbsp; d) Passing a Lambda into a Function <br>\n",
    " &nbsp;&nbsp;&nbsp;&nbsp; e) Returning a Lambda from a Function <br>\n",
    " &nbsp;&nbsp;&nbsp;&nbsp; f) In-Class Exercise #1 <br>\n",
    "2) <b>Map</b> <br>\n",
    " &nbsp;&nbsp;&nbsp;&nbsp; a) Syntax <br>\n",
    " &nbsp;&nbsp;&nbsp;&nbsp; b) Using Lambda's with Map <br>\n",
    " &nbsp;&nbsp;&nbsp;&nbsp; c) In-Class Exercise #2 <br>\n",
    "3) <b>Filter</b> <br>\n",
    " &nbsp;&nbsp;&nbsp;&nbsp; a) Syntax <br>\n",
    " &nbsp;&nbsp;&nbsp;&nbsp; b) Using Lambda's with Filter <br>\n",
    " &nbsp;&nbsp;&nbsp;&nbsp; c) In-Class Exercise #3 <br>\n",
    "4) <b>Reduce</b> <br>\n",
    " &nbsp;&nbsp;&nbsp;&nbsp; a) Syntax <br>\n",
    " &nbsp;&nbsp;&nbsp;&nbsp; b) Using Lambda's with Reduce <br>\n",
    " &nbsp;&nbsp;&nbsp;&nbsp; c) In-Class Exercise #4 <br>\n",
    "5) <b>Recursion</b> <br>\n",
    " &nbsp;&nbsp;&nbsp;&nbsp; a) Implementing a Base <br>\n",
    " &nbsp;&nbsp;&nbsp;&nbsp; b) Writing a Factorial Function <br>\n",
    " &nbsp;&nbsp;&nbsp;&nbsp; c) In-Class Exercise #5 <br>\n",
    "6) <b>Generators & Iterators</b> <br>\n",
    " &nbsp;&nbsp;&nbsp;&nbsp; a) Yield Keyword <br>\n",
    " &nbsp;&nbsp;&nbsp;&nbsp; b) Inifinite Generator <br>\n",
    " &nbsp;&nbsp;&nbsp;&nbsp; c) In-Class Exercise #6 <br>\n",
    "7) <b>Exercises</b> <br>\n",
    " &nbsp;&nbsp;&nbsp;&nbsp; a) Exercise #1 - Filtering Empty Strings <br>\n",
    " &nbsp;&nbsp;&nbsp;&nbsp; b) Exercise #2 - Sorting with Last Name <br>\n",
    " &nbsp;&nbsp;&nbsp;&nbsp; c) Exercise #3 - Conversion to Farhenheit <br>\n",
    " &nbsp;&nbsp;&nbsp;&nbsp; d) Exercise #4 - Fibonacci Sequence <br>"
   ]
  },
  {
   "cell_type": "markdown",
   "metadata": {},
   "source": [
    "## Lambda Functions <br>\n",
    "<p>Lambda functions... or \"Anonymous Functions\" are referring to inline functions with no name. The keyword lambda denotes the no name function, and executes within a single line. Without saving it to a variable; however, it is not able to be used, unless passed in either as a paramater or within list comprehension.<br>Written as \"(keyword lambda) (one or more inputs) (colon) (function to be executed)\"</p>"
   ]
  },
  {
   "cell_type": "markdown",
   "metadata": {},
   "source": [
    "#### Syntax"
   ]
  },
  {
   "cell_type": "code",
   "execution_count": 1,
   "metadata": {},
   "outputs": [
    {
     "data": {
      "text/plain": [
       "'My name is hello'"
      ]
     },
     "execution_count": 1,
     "metadata": {},
     "output_type": "execute_result"
    }
   ],
   "source": [
    "def doStuff(statement):\n",
    "    return statement\n",
    "\n",
    "doStuff(\"My name is hello\")"
   ]
  },
  {
   "cell_type": "markdown",
   "metadata": {},
   "source": [
    "#### Saving to a Variable"
   ]
  },
  {
   "cell_type": "code",
   "execution_count": 2,
   "metadata": {},
   "outputs": [
    {
     "data": {
      "text/plain": [
       "'This is a statement'"
      ]
     },
     "execution_count": 2,
     "metadata": {},
     "output_type": "execute_result"
    }
   ],
   "source": [
    "myFunc = lambda x:x\n",
    "\n",
    "myFunc(\"This is a statement\")"
   ]
  },
  {
   "cell_type": "markdown",
   "metadata": {},
   "source": [
    "#### Multiple Inputs"
   ]
  },
  {
   "cell_type": "code",
   "execution_count": 3,
   "metadata": {},
   "outputs": [
    {
     "data": {
      "text/plain": [
       "6"
      ]
     },
     "execution_count": 3,
     "metadata": {},
     "output_type": "execute_result"
    }
   ],
   "source": [
    "def add(x, y):\n",
    "    return x + y\n",
    "\n",
    "add(1, 5)"
   ]
  },
  {
   "cell_type": "code",
   "execution_count": 4,
   "metadata": {},
   "outputs": [
    {
     "data": {
      "text/plain": [
       "10"
      ]
     },
     "execution_count": 4,
     "metadata": {},
     "output_type": "execute_result"
    }
   ],
   "source": [
    "f = lambda x, y:x+y\n",
    "f(6, 4)"
   ]
  },
  {
   "cell_type": "markdown",
   "metadata": {},
   "source": [
    "#### Passing a Lambda into a Function"
   ]
  },
  {
   "cell_type": "code",
   "execution_count": null,
   "metadata": {},
   "outputs": [],
   "source": [
    "def mb2(input_):\n",
    "    return input_ * 2"
   ]
  },
  {
   "cell_type": "code",
   "execution_count": null,
   "metadata": {},
   "outputs": [],
   "source": [
    "12 -> mb2 -- 24\n",
    "4\n",
    "5\n",
    "6\n",
    "7\n",
    "8\n",
    "54\n",
    "2\n",
    "6\n",
    "34\n",
    "\n",
    "[12, 4, 5, ...].apply()"
   ]
  },
  {
   "cell_type": "code",
   "execution_count": null,
   "metadata": {},
   "outputs": [],
   "source": [
    "def myFunc(f, num):\n",
    "    return f(num)\n",
    "\n",
    "myFunc(lambda x: x+2, 3)"
   ]
  },
  {
   "cell_type": "markdown",
   "metadata": {},
   "source": [
    "#### Returning a Lambda from a Function"
   ]
  },
  {
   "cell_type": "code",
   "execution_count": 5,
   "metadata": {},
   "outputs": [
    {
     "data": {
      "text/plain": [
       "4"
      ]
     },
     "execution_count": 5,
     "metadata": {},
     "output_type": "execute_result"
    }
   ],
   "source": [
    "[1, 2, 3, 4].split()[0]"
   ]
  },
  {
   "cell_type": "code",
   "execution_count": 10,
   "metadata": {},
   "outputs": [
    {
     "data": {
      "text/plain": [
       "10"
      ]
     },
     "execution_count": 10,
     "metadata": {},
     "output_type": "execute_result"
    }
   ],
   "source": [
    "# return lambda x: x + a + b + c\n",
    "\n",
    "def myFunc(a, b, c):\n",
    "    return lambda x: x + a + b + c\n",
    "\n",
    "f = myFunc(1, 2, 3)(4)\n",
    "\n",
    "f"
   ]
  },
  {
   "cell_type": "markdown",
   "metadata": {},
   "source": [
    "#### In-Class Exercise #1 <br>\n",
    "<p>Write an anonymous function that cubes the arguments passed in and assign the anonymous function to a variable 'f'.</p>"
   ]
  },
  {
   "cell_type": "code",
   "execution_count": 11,
   "metadata": {},
   "outputs": [
    {
     "data": {
      "text/plain": [
       "64"
      ]
     },
     "execution_count": 11,
     "metadata": {},
     "output_type": "execute_result"
    }
   ],
   "source": [
    "@doSomething\n",
    "def anon():\n",
    "    return lambda x:x**3\n",
    "\n",
    "f = anon()\n",
    "f(4)"
   ]
  },
  {
   "cell_type": "code",
   "execution_count": null,
   "metadata": {},
   "outputs": [],
   "source": [
    "@doSomething\n",
    "def anon():\n",
    "    pass\n",
    "\n",
    "anon()"
   ]
  },
  {
   "cell_type": "markdown",
   "metadata": {},
   "source": [
    "## Map <br>\n",
    "<p>The map function allows you to iterate over an entire list while running a function on each item of the list. This is why the map function works well with lambda's, because it simplifies things and you write less lines of code.<br>The syntax for a map function is \"map(function to be used, list to be used)\"<br>However, you must be careful, as the map function returns a map object, not a list. To turn it into a list we use the list() type conversion.</p>"
   ]
  },
  {
   "cell_type": "markdown",
   "metadata": {},
   "source": [
    "#### Syntax"
   ]
  },
  {
   "cell_type": "code",
   "execution_count": 15,
   "metadata": {},
   "outputs": [],
   "source": [
    "# map(func, list)"
   ]
  },
  {
   "cell_type": "markdown",
   "metadata": {},
   "source": [
    "#### Using Lambda's with Map"
   ]
  },
  {
   "cell_type": "code",
   "execution_count": 17,
   "metadata": {},
   "outputs": [
    {
     "data": {
      "text/plain": [
       "[3, 5, 7, 9, 11]"
      ]
     },
     "execution_count": 17,
     "metadata": {},
     "output_type": "execute_result"
    }
   ],
   "source": [
    "f = lambda x: x+2\n",
    "\n",
    "myList = [1, 3, 5, 7, 9]\n",
    "\n",
    "list(map(f, myList))"
   ]
  },
  {
   "cell_type": "code",
   "execution_count": 18,
   "metadata": {},
   "outputs": [
    {
     "data": {
      "text/plain": [
       "[3, 5, 7, 9, 11]"
      ]
     },
     "execution_count": 18,
     "metadata": {},
     "output_type": "execute_result"
    }
   ],
   "source": [
    "list(map(lambda x: x+2, myList))"
   ]
  },
  {
   "cell_type": "code",
   "execution_count": 20,
   "metadata": {},
   "outputs": [
    {
     "data": {
      "text/plain": [
       "['Hello Derek', 'Hello Abiola', 'Hello Michael']"
      ]
     },
     "execution_count": 20,
     "metadata": {},
     "output_type": "execute_result"
    }
   ],
   "source": [
    "list(map(lambda name: f\"Hello {name}\", [\"Derek\", \"Abiola\", \"Michael\"]))\n",
    "\n",
    "names = [\"Michael Jordan\", \"LeBron James\", \"Kobe Bryant\"]\n",
    "\n",
    "[\"Kobe Bryant\", \"LeBron James\", \"Michael Jordan\"]"
   ]
  },
  {
   "cell_type": "markdown",
   "metadata": {},
   "source": [
    "#### In-Class Exercise #2 <br>\n",
    "<p>Use the map function to cube each number and subract by one in the list by using a lambda function</p>"
   ]
  },
  {
   "cell_type": "code",
   "execution_count": 22,
   "metadata": {},
   "outputs": [
    {
     "data": {
      "text/plain": [
       "[1, 3, 5, 7]"
      ]
     },
     "execution_count": 22,
     "metadata": {},
     "output_type": "execute_result"
    }
   ],
   "source": [
    "myList = [1, 2, 3, 4]\n",
    "[1, 3, 5, 7]\n",
    "\n",
    "list(map(lambda x: x * 2 - 1, myList))"
   ]
  },
  {
   "cell_type": "markdown",
   "metadata": {},
   "source": [
    "## Filter() <br>\n",
    "<p>Filter's are similar to the map function, where you're able to pass a function argument and a list argument and filter out something from the list based on the conditions passed. Similar to the map function, it returns a filter object, so you need to type convert it to a list()</p>"
   ]
  },
  {
   "cell_type": "markdown",
   "metadata": {},
   "source": [
    "#### Syntax"
   ]
  },
  {
   "cell_type": "code",
   "execution_count": null,
   "metadata": {},
   "outputs": [],
   "source": [
    "# filter(func, list)"
   ]
  },
  {
   "cell_type": "markdown",
   "metadata": {},
   "source": [
    "#### Using Lambda's with Filter()"
   ]
  },
  {
   "cell_type": "code",
   "execution_count": 29,
   "metadata": {},
   "outputs": [
    {
     "data": {
      "text/plain": [
       "[None, 12, None, None, 26]"
      ]
     },
     "execution_count": 29,
     "metadata": {},
     "output_type": "execute_result"
    }
   ],
   "source": [
    "myList = [1, 2, 3, 7, 16]\n",
    "\n",
    "def myFunc(num):\n",
    "    if num < 4:\n",
    "        return True\n",
    "    \n",
    "f = lambda x:x + 10 if x%2==0 else None\n",
    "myNewList = list(filter(myFunc, myList))\n",
    "# myNewList\n",
    "list(map(f, myList))"
   ]
  },
  {
   "cell_type": "markdown",
   "metadata": {},
   "source": [
    "#### In-Class Exercise #3 <br>\n",
    "<p>Filter out all the numbers that are below the mean of the list.<br><b>Hint: Import the 'statistics' module</b></p>"
   ]
  },
  {
   "cell_type": "code",
   "execution_count": 30,
   "metadata": {},
   "outputs": [],
   "source": [
    "from statistics import mean"
   ]
  },
  {
   "cell_type": "code",
   "execution_count": null,
   "metadata": {},
   "outputs": [],
   "source": [
    "# PYTHON ARRAY = [1, 2, 3, 4, 5, 6]\n",
    "# PYTHON LIST = [1, 2, \"Derek\", 3.4]"
   ]
  },
  {
   "cell_type": "code",
   "execution_count": 37,
   "metadata": {},
   "outputs": [
    {
     "data": {
      "text/plain": [
       "[4.9, 7, 9]"
      ]
     },
     "execution_count": 37,
     "metadata": {},
     "output_type": "execute_result"
    }
   ],
   "source": [
    "nums = [2, 7, 4.2, 1.6, 9, 4.4, 4.9]\n",
    "# mean(nums) = 4.728571428571429\n",
    "\n",
    "sorted(list(filter(lambda x:x > mean(nums), nums)))"
   ]
  },
  {
   "cell_type": "markdown",
   "metadata": {},
   "source": [
    "## Reduce() <br>\n",
    "<p>Be very careful when using this function, as of Python 3 it's been moved to the 'functools' library and no longer is a built-in function.<br>The creator of Python himself, says to just use a for loop instead.</p>"
   ]
  },
  {
   "cell_type": "code",
   "execution_count": null,
   "metadata": {},
   "outputs": [],
   "source": [
    "[1, 2, 3] = 6"
   ]
  },
  {
   "cell_type": "markdown",
   "metadata": {},
   "source": [
    "#### Syntax"
   ]
  },
  {
   "cell_type": "code",
   "execution_count": 38,
   "metadata": {},
   "outputs": [],
   "source": [
    "# reduce(func, list)"
   ]
  },
  {
   "cell_type": "code",
   "execution_count": 44,
   "metadata": {},
   "outputs": [
    {
     "name": "stdout",
     "output_type": "stream",
     "text": [
      "29\n"
     ]
    }
   ],
   "source": [
    "from functools import reduce\n",
    "\n",
    "myList = [1, 2, 3, 7, 16]\n",
    "\n",
    "def myFunc(x, y):\n",
    "    return x + y\n",
    "\n",
    "total = 0\n",
    "for num in myList:\n",
    "    total+=num\n",
    "print(total)\n",
    "\n",
    "# reduce(myFunc, myList)"
   ]
  },
  {
   "cell_type": "code",
   "execution_count": 41,
   "metadata": {},
   "outputs": [
    {
     "data": {
      "text/plain": [
       "29"
      ]
     },
     "execution_count": 41,
     "metadata": {},
     "output_type": "execute_result"
    }
   ],
   "source": [
    "1+2+3+7+16"
   ]
  },
  {
   "cell_type": "markdown",
   "metadata": {},
   "source": [
    "#### Using Lambda's with Reduce()"
   ]
  },
  {
   "cell_type": "code",
   "execution_count": 49,
   "metadata": {},
   "outputs": [
    {
     "data": {
      "text/plain": [
       "672"
      ]
     },
     "execution_count": 49,
     "metadata": {},
     "output_type": "execute_result"
    }
   ],
   "source": [
    "reduce(lambda x, y: x*y, myList)\n",
    "# 1*2*3*7*16"
   ]
  },
  {
   "cell_type": "markdown",
   "metadata": {},
   "source": [
    "#### In-Class Exercise #4 <br>\n",
    "<p>Use the reduce function to multiply the numbers in the list below together.</p>"
   ]
  },
  {
   "cell_type": "code",
   "execution_count": null,
   "metadata": {},
   "outputs": [],
   "source": [
    "reduce(lambda x, y: x*y, myList)"
   ]
  },
  {
   "cell_type": "markdown",
   "metadata": {},
   "source": [
    "## Recursion <br>\n",
    "<p>Recursion means that a function is calling itself, so it contanstly executes until a base case is reached. It will then push the returning values back up the chain until the function is complete. A prime example of recursion is computing factorials... such that 5! (factorial) is 5*4*3*2*1 which equals 120.</p>"
   ]
  },
  {
   "cell_type": "markdown",
   "metadata": {},
   "source": [
    "#### Implementing a Base Case"
   ]
  },
  {
   "cell_type": "code",
   "execution_count": 51,
   "metadata": {},
   "outputs": [
    {
     "data": {
      "text/plain": [
       "120"
      ]
     },
     "execution_count": 51,
     "metadata": {},
     "output_type": "execute_result"
    }
   ],
   "source": [
    "def factorial(num):\n",
    "    # Base case\n",
    "    if num < 1:\n",
    "        return 1\n",
    "    else:\n",
    "        return factorial(num - 1) * num\n",
    "    \n",
    "factorial(5)"
   ]
  },
  {
   "cell_type": "code",
   "execution_count": 52,
   "metadata": {},
   "outputs": [
    {
     "name": "stdout",
     "output_type": "stream",
     "text": [
      "Hello\n",
      "Hello\n",
      "Hello\n",
      "Hello\n",
      "Hello\n",
      "Hello\n",
      "Hello\n",
      "Hello\n",
      "Hello\n",
      "Hello\n"
     ]
    }
   ],
   "source": [
    "number = 0\n",
    "while number <= 9:\n",
    "    print(\"Hello\")\n",
    "    number += 1"
   ]
  },
  {
   "cell_type": "code",
   "execution_count": null,
   "metadata": {},
   "outputs": [],
   "source": [
    "1. factorial(5) = 5\n",
    "\n",
    "2. factorial(5 - 1) *\n",
    "\n",
    "3. factorial(5) * 4 * 3 * 2 * 1"
   ]
  },
  {
   "cell_type": "markdown",
   "metadata": {},
   "source": [
    "#### Writing a Factorial Function"
   ]
  },
  {
   "cell_type": "code",
   "execution_count": null,
   "metadata": {},
   "outputs": [],
   "source": []
  },
  {
   "cell_type": "markdown",
   "metadata": {},
   "source": [
    "#### In-Class Exercise #5 <br>\n",
    "<p>Write a recursive function that adds all numbers together up to the argument given.</p>"
   ]
  },
  {
   "cell_type": "code",
   "execution_count": 53,
   "metadata": {},
   "outputs": [
    {
     "data": {
      "text/plain": [
       "15"
      ]
     },
     "execution_count": 53,
     "metadata": {},
     "output_type": "execute_result"
    }
   ],
   "source": [
    "def addNums(num):\n",
    "    if num <=1:\n",
    "        return 1\n",
    "    else:\n",
    "        return addNums(num - 1) + num\n",
    "    \n",
    "addNums(5)"
   ]
  },
  {
   "cell_type": "markdown",
   "metadata": {},
   "source": [
    "## Generators <br>\n",
    "<p>Generators are a type of iterable, like lists or tuples. They do not allow indexing, but they can still be iterated through with for loops. They are created using functions and the yield statement.</p>"
   ]
  },
  {
   "cell_type": "code",
   "execution_count": 55,
   "metadata": {},
   "outputs": [
    {
     "name": "stdout",
     "output_type": "stream",
     "text": [
      "w\n",
      "o\n",
      "r\n",
      "k\n"
     ]
    }
   ],
   "source": [
    "# yield\n",
    "def countdown(word):\n",
    "    # base case\n",
    "    for char in word:\n",
    "        return char\n",
    "        \n",
    "countdown(\"work\")"
   ]
  },
  {
   "cell_type": "markdown",
   "metadata": {},
   "source": [
    "#### Yield Keyword <br>\n",
    "<p>The yield keyword denotes a generator, it doesn't return so it won't leave the function and reset all variables in the function scope, instead it yields the number back to the caller.</p>"
   ]
  },
  {
   "cell_type": "code",
   "execution_count": 57,
   "metadata": {},
   "outputs": [
    {
     "name": "stdout",
     "output_type": "stream",
     "text": [
      "w\n",
      "o\n",
      "r\n",
      "k\n"
     ]
    }
   ],
   "source": [
    "# yield\n",
    "def countdown(word):\n",
    "    # base case\n",
    "    for char in word:\n",
    "        yield char\n",
    "        \n",
    "for i in countdown(\"work\"):\n",
    "    print(i)"
   ]
  },
  {
   "cell_type": "markdown",
   "metadata": {},
   "source": [
    "#### In-Class Exercise #6 <br>\n",
    "<p>Create a generator that yields a number argument taken in and yields that number squared.</p>"
   ]
  },
  {
   "cell_type": "code",
   "execution_count": null,
   "metadata": {},
   "outputs": [],
   "source": [
    "[1, 2, 3, 4]\n",
    "{1: X},\n",
    "{2: X}"
   ]
  },
  {
   "cell_type": "code",
   "execution_count": 61,
   "metadata": {},
   "outputs": [
    {
     "name": "stdout",
     "output_type": "stream",
     "text": [
      "{5: 25, 4: 16, 3: 9, 2: 4, 1: 1, 0: 0}\n"
     ]
    }
   ],
   "source": [
    "def squareCountdown(num):\n",
    "    while num >= 0:\n",
    "        yield { num: num**2 }\n",
    "        num-=1\n",
    "        \n",
    "myDict = dict()\n",
    "\n",
    "for dict_ in squareCountdown(5):\n",
    "    for k, v in dict_.items():\n",
    "        myDict[k] = v\n",
    "    \n",
    "print(myDict)"
   ]
  },
  {
   "cell_type": "markdown",
   "metadata": {},
   "source": [
    "# Exercises"
   ]
  },
  {
   "cell_type": "markdown",
   "metadata": {},
   "source": [
    "### Exercise #1 <br>\n",
    "<p>Filter out all of the empty strings from the list below</p>"
   ]
  },
  {
   "cell_type": "code",
   "execution_count": 30,
   "metadata": {},
   "outputs": [
    {
     "data": {
      "text/plain": [
       "['Argentina', 'San Diego', 'Boston', 'New York']"
      ]
     },
     "execution_count": 30,
     "metadata": {},
     "output_type": "execute_result"
    }
   ],
   "source": [
    "places = [' ', 'Argentina', '  ', 'San Diego', '', '   ', '', 'Boston', 'New York']\n",
    "list(filter(lambda x: x.strip(), places))"
   ]
  },
  {
   "cell_type": "markdown",
   "metadata": {},
   "source": [
    "### Exercise #2 <br>\n",
    "<p>Write an anonymous function that sorts this list by the last name...<br><b>Hint: Use the \".sort()\" method and access the key\"</b></p>"
   ]
  },
  {
   "cell_type": "code",
   "execution_count": 31,
   "metadata": {},
   "outputs": [
    {
     "data": {
      "text/plain": [
       "['Victor aNisimov',\n",
       " 'Andrew P. Garfield',\n",
       " 'David HassELHOFF',\n",
       " 'Connor Milliken',\n",
       " 'Oprah wInfrey']"
      ]
     },
     "execution_count": 31,
     "metadata": {},
     "output_type": "execute_result"
    }
   ],
   "source": [
    "authors = [\"Connor Milliken\", \"Victor aNisimov\", \"Andrew P. Garfield\", \"David HassELHOFF\", \"Oprah wInfrey\"]\n",
    "authors.sort(key=lambda x:x.split(\" \")[-1].lower())\n",
    "authors"
   ]
  },
  {
   "cell_type": "markdown",
   "metadata": {},
   "source": [
    "### Exercise #3 <br>\n",
    "<p>Convert the list below from Celsius to Farhenheit, using the map function with a lambda...</p>"
   ]
  },
  {
   "cell_type": "code",
   "execution_count": 32,
   "metadata": {},
   "outputs": [
    {
     "data": {
      "text/plain": [
       "[('Nassau', '89.6'),\n",
       " ('Boston', '53.6'),\n",
       " ('Los Angeles', '111.2'),\n",
       " ('Miami', '84.2')]"
      ]
     },
     "execution_count": 32,
     "metadata": {},
     "output_type": "execute_result"
    }
   ],
   "source": [
    "places = [('Nassau', 32), ('Boston', 12), ('Los Angeles', 44), ('Miami', 29)]\n",
    "list(map(lambda x: (x[0], f\"{x[1]*(9/5)+32}\"), places))"
   ]
  },
  {
   "cell_type": "markdown",
   "metadata": {},
   "source": [
    "### Exercise #4 <br>\n",
    "<p>Write a recursive function to perform the fibonacci sequence up to the number passed in.</p>"
   ]
  },
  {
   "cell_type": "code",
   "execution_count": 2,
   "metadata": {},
   "outputs": [],
   "source": [
    "def fib(num):\n",
    "    # base case\n",
    "    if num <= 1:\n",
    "        return 1\n",
    "    return fib(num - 1) + fib(num - 2)"
   ]
  },
  {
   "cell_type": "code",
   "execution_count": null,
   "metadata": {},
   "outputs": [],
   "source": [
    "fib(500)"
   ]
  },
  {
   "cell_type": "code",
   "execution_count": null,
   "metadata": {},
   "outputs": [
    {
     "name": "stdout",
     "output_type": "stream",
     "text": [
      "1: 1\n",
      "2: 1\n",
      "3: 2\n",
      "4: 3\n",
      "5: 5\n",
      "6: 8\n",
      "7: 13\n",
      "8: 21\n",
      "9: 34\n",
      "10: 55\n",
      "11: 89\n",
      "12: 144\n",
      "13: 233\n",
      "14: 377\n",
      "15: 610\n",
      "16: 987\n",
      "17: 1597\n",
      "18: 2584\n",
      "19: 4181\n",
      "20: 6765\n",
      "21: 10946\n",
      "22: 17711\n",
      "23: 28657\n",
      "24: 46368\n",
      "25: 75025\n",
      "26: 121393\n",
      "27: 196418\n",
      "28: 317811\n",
      "29: 514229\n",
      "30: 832040\n",
      "31: 1346269\n",
      "32: 2178309\n",
      "33: 3524578\n",
      "34: 5702887\n",
      "35: 9227465\n",
      "36: 14930352\n",
      "37: 24157817\n",
      "38: 39088169\n",
      "39: 63245986\n",
      "40: 102334155\n",
      "41: 165580141\n",
      "42: 267914296\n",
      "43: 433494437\n",
      "44: 701408733\n"
     ]
    }
   ],
   "source": [
    "def numOfIters(num):\n",
    "    for i in range(num):\n",
    "        print(f\"{i+1}: {fib(i)}\")\n",
    "        \n",
    "numOfIters(100)"
   ]
  },
  {
   "cell_type": "code",
   "execution_count": 10,
   "metadata": {},
   "outputs": [],
   "source": [
    "fibo = lambda n: fibo(n)"
   ]
  },
  {
   "cell_type": "code",
   "execution_count": 11,
   "metadata": {},
   "outputs": [
    {
     "ename": "RecursionError",
     "evalue": "maximum recursion depth exceeded",
     "output_type": "error",
     "traceback": [
      "\u001b[0;31m---------------------------------------------------------------------------\u001b[0m",
      "\u001b[0;31mRecursionError\u001b[0m                            Traceback (most recent call last)",
      "\u001b[0;32m<ipython-input-11-b47729035f06>\u001b[0m in \u001b[0;36m<module>\u001b[0;34m\u001b[0m\n\u001b[0;32m----> 1\u001b[0;31m \u001b[0mfibo\u001b[0m\u001b[0;34m(\u001b[0m\u001b[0;36m9\u001b[0m\u001b[0;34m)\u001b[0m\u001b[0;34m\u001b[0m\u001b[0;34m\u001b[0m\u001b[0m\n\u001b[0m",
      "\u001b[0;32m<ipython-input-10-c434b4a19014>\u001b[0m in \u001b[0;36m<lambda>\u001b[0;34m(n)\u001b[0m\n\u001b[0;32m----> 1\u001b[0;31m \u001b[0mfibo\u001b[0m \u001b[0;34m=\u001b[0m \u001b[0;32mlambda\u001b[0m \u001b[0mn\u001b[0m\u001b[0;34m:\u001b[0m \u001b[0mfibo\u001b[0m\u001b[0;34m(\u001b[0m\u001b[0mn\u001b[0m\u001b[0;34m)\u001b[0m\u001b[0;34m\u001b[0m\u001b[0;34m\u001b[0m\u001b[0m\n\u001b[0m",
      "... last 1 frames repeated, from the frame below ...\n",
      "\u001b[0;32m<ipython-input-10-c434b4a19014>\u001b[0m in \u001b[0;36m<lambda>\u001b[0;34m(n)\u001b[0m\n\u001b[0;32m----> 1\u001b[0;31m \u001b[0mfibo\u001b[0m \u001b[0;34m=\u001b[0m \u001b[0;32mlambda\u001b[0m \u001b[0mn\u001b[0m\u001b[0;34m:\u001b[0m \u001b[0mfibo\u001b[0m\u001b[0;34m(\u001b[0m\u001b[0mn\u001b[0m\u001b[0;34m)\u001b[0m\u001b[0;34m\u001b[0m\u001b[0;34m\u001b[0m\u001b[0m\n\u001b[0m",
      "\u001b[0;31mRecursionError\u001b[0m: maximum recursion depth exceeded"
     ]
    }
   ],
   "source": [
    "fibo(9)"
   ]
  },
  {
   "cell_type": "code",
   "execution_count": 5,
   "metadata": {},
   "outputs": [
    {
     "data": {
      "text/plain": [
       "['1: []',\n",
       " \"2: ['1: []']\",\n",
       " '3: [\\'1: []\\', \"2: [\\'1: []\\']\"]',\n",
       " '4: [\\'1: []\\', \"2: [\\'1: []\\']\", \\'3: [\\\\\\'1: []\\\\\\', \"2: [\\\\\\'1: []\\\\\\']\"]\\']',\n",
       " '5: [\\'1: []\\', \"2: [\\'1: []\\']\", \\'3: [\\\\\\'1: []\\\\\\', \"2: [\\\\\\'1: []\\\\\\']\"]\\', \\'4: [\\\\\\'1: []\\\\\\', \"2: [\\\\\\'1: []\\\\\\']\", \\\\\\'3: [\\\\\\\\\\\\\\'1: []\\\\\\\\\\\\\\', \"2: [\\\\\\\\\\\\\\'1: []\\\\\\\\\\\\\\']\"]\\\\\\']\\']',\n",
       " '6: [\\'1: []\\', \"2: [\\'1: []\\']\", \\'3: [\\\\\\'1: []\\\\\\', \"2: [\\\\\\'1: []\\\\\\']\"]\\', \\'4: [\\\\\\'1: []\\\\\\', \"2: [\\\\\\'1: []\\\\\\']\", \\\\\\'3: [\\\\\\\\\\\\\\'1: []\\\\\\\\\\\\\\', \"2: [\\\\\\\\\\\\\\'1: []\\\\\\\\\\\\\\']\"]\\\\\\']\\', \\'5: [\\\\\\'1: []\\\\\\', \"2: [\\\\\\'1: []\\\\\\']\", \\\\\\'3: [\\\\\\\\\\\\\\'1: []\\\\\\\\\\\\\\', \"2: [\\\\\\\\\\\\\\'1: []\\\\\\\\\\\\\\']\"]\\\\\\', \\\\\\'4: [\\\\\\\\\\\\\\'1: []\\\\\\\\\\\\\\', \"2: [\\\\\\\\\\\\\\'1: []\\\\\\\\\\\\\\']\", \\\\\\\\\\\\\\'3: [\\\\\\\\\\\\\\\\\\\\\\\\\\\\\\'1: []\\\\\\\\\\\\\\\\\\\\\\\\\\\\\\', \"2: [\\\\\\\\\\\\\\\\\\\\\\\\\\\\\\'1: []\\\\\\\\\\\\\\\\\\\\\\\\\\\\\\']\"]\\\\\\\\\\\\\\']\\\\\\']\\']',\n",
       " '7: [\\'1: []\\', \"2: [\\'1: []\\']\", \\'3: [\\\\\\'1: []\\\\\\', \"2: [\\\\\\'1: []\\\\\\']\"]\\', \\'4: [\\\\\\'1: []\\\\\\', \"2: [\\\\\\'1: []\\\\\\']\", \\\\\\'3: [\\\\\\\\\\\\\\'1: []\\\\\\\\\\\\\\', \"2: [\\\\\\\\\\\\\\'1: []\\\\\\\\\\\\\\']\"]\\\\\\']\\', \\'5: [\\\\\\'1: []\\\\\\', \"2: [\\\\\\'1: []\\\\\\']\", \\\\\\'3: [\\\\\\\\\\\\\\'1: []\\\\\\\\\\\\\\', \"2: [\\\\\\\\\\\\\\'1: []\\\\\\\\\\\\\\']\"]\\\\\\', \\\\\\'4: [\\\\\\\\\\\\\\'1: []\\\\\\\\\\\\\\', \"2: [\\\\\\\\\\\\\\'1: []\\\\\\\\\\\\\\']\", \\\\\\\\\\\\\\'3: [\\\\\\\\\\\\\\\\\\\\\\\\\\\\\\'1: []\\\\\\\\\\\\\\\\\\\\\\\\\\\\\\', \"2: [\\\\\\\\\\\\\\\\\\\\\\\\\\\\\\'1: []\\\\\\\\\\\\\\\\\\\\\\\\\\\\\\']\"]\\\\\\\\\\\\\\']\\\\\\']\\', \\'6: [\\\\\\'1: []\\\\\\', \"2: [\\\\\\'1: []\\\\\\']\", \\\\\\'3: [\\\\\\\\\\\\\\'1: []\\\\\\\\\\\\\\', \"2: [\\\\\\\\\\\\\\'1: []\\\\\\\\\\\\\\']\"]\\\\\\', \\\\\\'4: [\\\\\\\\\\\\\\'1: []\\\\\\\\\\\\\\', \"2: [\\\\\\\\\\\\\\'1: []\\\\\\\\\\\\\\']\", \\\\\\\\\\\\\\'3: [\\\\\\\\\\\\\\\\\\\\\\\\\\\\\\'1: []\\\\\\\\\\\\\\\\\\\\\\\\\\\\\\', \"2: [\\\\\\\\\\\\\\\\\\\\\\\\\\\\\\'1: []\\\\\\\\\\\\\\\\\\\\\\\\\\\\\\']\"]\\\\\\\\\\\\\\']\\\\\\', \\\\\\'5: [\\\\\\\\\\\\\\'1: []\\\\\\\\\\\\\\', \"2: [\\\\\\\\\\\\\\'1: []\\\\\\\\\\\\\\']\", \\\\\\\\\\\\\\'3: [\\\\\\\\\\\\\\\\\\\\\\\\\\\\\\'1: []\\\\\\\\\\\\\\\\\\\\\\\\\\\\\\', \"2: [\\\\\\\\\\\\\\\\\\\\\\\\\\\\\\'1: []\\\\\\\\\\\\\\\\\\\\\\\\\\\\\\']\"]\\\\\\\\\\\\\\', \\\\\\\\\\\\\\'4: [\\\\\\\\\\\\\\\\\\\\\\\\\\\\\\'1: []\\\\\\\\\\\\\\\\\\\\\\\\\\\\\\', \"2: [\\\\\\\\\\\\\\\\\\\\\\\\\\\\\\'1: []\\\\\\\\\\\\\\\\\\\\\\\\\\\\\\']\", \\\\\\\\\\\\\\\\\\\\\\\\\\\\\\'3: [\\\\\\\\\\\\\\\\\\\\\\\\\\\\\\\\\\\\\\\\\\\\\\\\\\\\\\\\\\\\\\'1: []\\\\\\\\\\\\\\\\\\\\\\\\\\\\\\\\\\\\\\\\\\\\\\\\\\\\\\\\\\\\\\', \"2: [\\\\\\\\\\\\\\\\\\\\\\\\\\\\\\\\\\\\\\\\\\\\\\\\\\\\\\\\\\\\\\'1: []\\\\\\\\\\\\\\\\\\\\\\\\\\\\\\\\\\\\\\\\\\\\\\\\\\\\\\\\\\\\\\']\"]\\\\\\\\\\\\\\\\\\\\\\\\\\\\\\']\\\\\\\\\\\\\\']\\\\\\']\\']',\n",
       " '8: [\\'1: []\\', \"2: [\\'1: []\\']\", \\'3: [\\\\\\'1: []\\\\\\', \"2: [\\\\\\'1: []\\\\\\']\"]\\', \\'4: [\\\\\\'1: []\\\\\\', \"2: [\\\\\\'1: []\\\\\\']\", \\\\\\'3: [\\\\\\\\\\\\\\'1: []\\\\\\\\\\\\\\', \"2: [\\\\\\\\\\\\\\'1: []\\\\\\\\\\\\\\']\"]\\\\\\']\\', \\'5: [\\\\\\'1: []\\\\\\', \"2: [\\\\\\'1: []\\\\\\']\", \\\\\\'3: [\\\\\\\\\\\\\\'1: []\\\\\\\\\\\\\\', \"2: [\\\\\\\\\\\\\\'1: []\\\\\\\\\\\\\\']\"]\\\\\\', \\\\\\'4: [\\\\\\\\\\\\\\'1: []\\\\\\\\\\\\\\', \"2: [\\\\\\\\\\\\\\'1: []\\\\\\\\\\\\\\']\", \\\\\\\\\\\\\\'3: [\\\\\\\\\\\\\\\\\\\\\\\\\\\\\\'1: []\\\\\\\\\\\\\\\\\\\\\\\\\\\\\\', \"2: [\\\\\\\\\\\\\\\\\\\\\\\\\\\\\\'1: []\\\\\\\\\\\\\\\\\\\\\\\\\\\\\\']\"]\\\\\\\\\\\\\\']\\\\\\']\\', \\'6: [\\\\\\'1: []\\\\\\', \"2: [\\\\\\'1: []\\\\\\']\", \\\\\\'3: [\\\\\\\\\\\\\\'1: []\\\\\\\\\\\\\\', \"2: [\\\\\\\\\\\\\\'1: []\\\\\\\\\\\\\\']\"]\\\\\\', \\\\\\'4: [\\\\\\\\\\\\\\'1: []\\\\\\\\\\\\\\', \"2: [\\\\\\\\\\\\\\'1: []\\\\\\\\\\\\\\']\", \\\\\\\\\\\\\\'3: [\\\\\\\\\\\\\\\\\\\\\\\\\\\\\\'1: []\\\\\\\\\\\\\\\\\\\\\\\\\\\\\\', \"2: [\\\\\\\\\\\\\\\\\\\\\\\\\\\\\\'1: []\\\\\\\\\\\\\\\\\\\\\\\\\\\\\\']\"]\\\\\\\\\\\\\\']\\\\\\', \\\\\\'5: [\\\\\\\\\\\\\\'1: []\\\\\\\\\\\\\\', \"2: [\\\\\\\\\\\\\\'1: []\\\\\\\\\\\\\\']\", \\\\\\\\\\\\\\'3: [\\\\\\\\\\\\\\\\\\\\\\\\\\\\\\'1: []\\\\\\\\\\\\\\\\\\\\\\\\\\\\\\', \"2: [\\\\\\\\\\\\\\\\\\\\\\\\\\\\\\'1: []\\\\\\\\\\\\\\\\\\\\\\\\\\\\\\']\"]\\\\\\\\\\\\\\', \\\\\\\\\\\\\\'4: [\\\\\\\\\\\\\\\\\\\\\\\\\\\\\\'1: []\\\\\\\\\\\\\\\\\\\\\\\\\\\\\\', \"2: [\\\\\\\\\\\\\\\\\\\\\\\\\\\\\\'1: []\\\\\\\\\\\\\\\\\\\\\\\\\\\\\\']\", \\\\\\\\\\\\\\\\\\\\\\\\\\\\\\'3: [\\\\\\\\\\\\\\\\\\\\\\\\\\\\\\\\\\\\\\\\\\\\\\\\\\\\\\\\\\\\\\'1: []\\\\\\\\\\\\\\\\\\\\\\\\\\\\\\\\\\\\\\\\\\\\\\\\\\\\\\\\\\\\\\', \"2: [\\\\\\\\\\\\\\\\\\\\\\\\\\\\\\\\\\\\\\\\\\\\\\\\\\\\\\\\\\\\\\'1: []\\\\\\\\\\\\\\\\\\\\\\\\\\\\\\\\\\\\\\\\\\\\\\\\\\\\\\\\\\\\\\']\"]\\\\\\\\\\\\\\\\\\\\\\\\\\\\\\']\\\\\\\\\\\\\\']\\\\\\']\\', \\'7: [\\\\\\'1: []\\\\\\', \"2: [\\\\\\'1: []\\\\\\']\", \\\\\\'3: [\\\\\\\\\\\\\\'1: []\\\\\\\\\\\\\\', \"2: [\\\\\\\\\\\\\\'1: []\\\\\\\\\\\\\\']\"]\\\\\\', \\\\\\'4: [\\\\\\\\\\\\\\'1: []\\\\\\\\\\\\\\', \"2: [\\\\\\\\\\\\\\'1: []\\\\\\\\\\\\\\']\", \\\\\\\\\\\\\\'3: [\\\\\\\\\\\\\\\\\\\\\\\\\\\\\\'1: []\\\\\\\\\\\\\\\\\\\\\\\\\\\\\\', \"2: [\\\\\\\\\\\\\\\\\\\\\\\\\\\\\\'1: []\\\\\\\\\\\\\\\\\\\\\\\\\\\\\\']\"]\\\\\\\\\\\\\\']\\\\\\', \\\\\\'5: [\\\\\\\\\\\\\\'1: []\\\\\\\\\\\\\\', \"2: [\\\\\\\\\\\\\\'1: []\\\\\\\\\\\\\\']\", \\\\\\\\\\\\\\'3: [\\\\\\\\\\\\\\\\\\\\\\\\\\\\\\'1: []\\\\\\\\\\\\\\\\\\\\\\\\\\\\\\', \"2: [\\\\\\\\\\\\\\\\\\\\\\\\\\\\\\'1: []\\\\\\\\\\\\\\\\\\\\\\\\\\\\\\']\"]\\\\\\\\\\\\\\', \\\\\\\\\\\\\\'4: [\\\\\\\\\\\\\\\\\\\\\\\\\\\\\\'1: []\\\\\\\\\\\\\\\\\\\\\\\\\\\\\\', \"2: [\\\\\\\\\\\\\\\\\\\\\\\\\\\\\\'1: []\\\\\\\\\\\\\\\\\\\\\\\\\\\\\\']\", \\\\\\\\\\\\\\\\\\\\\\\\\\\\\\'3: [\\\\\\\\\\\\\\\\\\\\\\\\\\\\\\\\\\\\\\\\\\\\\\\\\\\\\\\\\\\\\\'1: []\\\\\\\\\\\\\\\\\\\\\\\\\\\\\\\\\\\\\\\\\\\\\\\\\\\\\\\\\\\\\\', \"2: [\\\\\\\\\\\\\\\\\\\\\\\\\\\\\\\\\\\\\\\\\\\\\\\\\\\\\\\\\\\\\\'1: []\\\\\\\\\\\\\\\\\\\\\\\\\\\\\\\\\\\\\\\\\\\\\\\\\\\\\\\\\\\\\\']\"]\\\\\\\\\\\\\\\\\\\\\\\\\\\\\\']\\\\\\\\\\\\\\']\\\\\\', \\\\\\'6: [\\\\\\\\\\\\\\'1: []\\\\\\\\\\\\\\', \"2: [\\\\\\\\\\\\\\'1: []\\\\\\\\\\\\\\']\", \\\\\\\\\\\\\\'3: [\\\\\\\\\\\\\\\\\\\\\\\\\\\\\\'1: []\\\\\\\\\\\\\\\\\\\\\\\\\\\\\\', \"2: [\\\\\\\\\\\\\\\\\\\\\\\\\\\\\\'1: []\\\\\\\\\\\\\\\\\\\\\\\\\\\\\\']\"]\\\\\\\\\\\\\\', \\\\\\\\\\\\\\'4: [\\\\\\\\\\\\\\\\\\\\\\\\\\\\\\'1: []\\\\\\\\\\\\\\\\\\\\\\\\\\\\\\', \"2: [\\\\\\\\\\\\\\\\\\\\\\\\\\\\\\'1: []\\\\\\\\\\\\\\\\\\\\\\\\\\\\\\']\", \\\\\\\\\\\\\\\\\\\\\\\\\\\\\\'3: [\\\\\\\\\\\\\\\\\\\\\\\\\\\\\\\\\\\\\\\\\\\\\\\\\\\\\\\\\\\\\\'1: []\\\\\\\\\\\\\\\\\\\\\\\\\\\\\\\\\\\\\\\\\\\\\\\\\\\\\\\\\\\\\\', \"2: [\\\\\\\\\\\\\\\\\\\\\\\\\\\\\\\\\\\\\\\\\\\\\\\\\\\\\\\\\\\\\\'1: []\\\\\\\\\\\\\\\\\\\\\\\\\\\\\\\\\\\\\\\\\\\\\\\\\\\\\\\\\\\\\\']\"]\\\\\\\\\\\\\\\\\\\\\\\\\\\\\\']\\\\\\\\\\\\\\', \\\\\\\\\\\\\\'5: [\\\\\\\\\\\\\\\\\\\\\\\\\\\\\\'1: []\\\\\\\\\\\\\\\\\\\\\\\\\\\\\\', \"2: [\\\\\\\\\\\\\\\\\\\\\\\\\\\\\\'1: []\\\\\\\\\\\\\\\\\\\\\\\\\\\\\\']\", \\\\\\\\\\\\\\\\\\\\\\\\\\\\\\'3: [\\\\\\\\\\\\\\\\\\\\\\\\\\\\\\\\\\\\\\\\\\\\\\\\\\\\\\\\\\\\\\'1: []\\\\\\\\\\\\\\\\\\\\\\\\\\\\\\\\\\\\\\\\\\\\\\\\\\\\\\\\\\\\\\', \"2: [\\\\\\\\\\\\\\\\\\\\\\\\\\\\\\\\\\\\\\\\\\\\\\\\\\\\\\\\\\\\\\'1: []\\\\\\\\\\\\\\\\\\\\\\\\\\\\\\\\\\\\\\\\\\\\\\\\\\\\\\\\\\\\\\']\"]\\\\\\\\\\\\\\\\\\\\\\\\\\\\\\', \\\\\\\\\\\\\\\\\\\\\\\\\\\\\\'4: [\\\\\\\\\\\\\\\\\\\\\\\\\\\\\\\\\\\\\\\\\\\\\\\\\\\\\\\\\\\\\\'1: []\\\\\\\\\\\\\\\\\\\\\\\\\\\\\\\\\\\\\\\\\\\\\\\\\\\\\\\\\\\\\\', \"2: [\\\\\\\\\\\\\\\\\\\\\\\\\\\\\\\\\\\\\\\\\\\\\\\\\\\\\\\\\\\\\\'1: []\\\\\\\\\\\\\\\\\\\\\\\\\\\\\\\\\\\\\\\\\\\\\\\\\\\\\\\\\\\\\\']\", \\\\\\\\\\\\\\\\\\\\\\\\\\\\\\\\\\\\\\\\\\\\\\\\\\\\\\\\\\\\\\'3: [\\\\\\\\\\\\\\\\\\\\\\\\\\\\\\\\\\\\\\\\\\\\\\\\\\\\\\\\\\\\\\\\\\\\\\\\\\\\\\\\\\\\\\\\\\\\\\\\\\\\\\\\\\\\\\\\\\\\\\\\\\\\\\'1: []\\\\\\\\\\\\\\\\\\\\\\\\\\\\\\\\\\\\\\\\\\\\\\\\\\\\\\\\\\\\\\\\\\\\\\\\\\\\\\\\\\\\\\\\\\\\\\\\\\\\\\\\\\\\\\\\\\\\\\\\\\\\\\', \"2: [\\\\\\\\\\\\\\\\\\\\\\\\\\\\\\\\\\\\\\\\\\\\\\\\\\\\\\\\\\\\\\\\\\\\\\\\\\\\\\\\\\\\\\\\\\\\\\\\\\\\\\\\\\\\\\\\\\\\\\\\\\\\\\'1: []\\\\\\\\\\\\\\\\\\\\\\\\\\\\\\\\\\\\\\\\\\\\\\\\\\\\\\\\\\\\\\\\\\\\\\\\\\\\\\\\\\\\\\\\\\\\\\\\\\\\\\\\\\\\\\\\\\\\\\\\\\\\\\']\"]\\\\\\\\\\\\\\\\\\\\\\\\\\\\\\\\\\\\\\\\\\\\\\\\\\\\\\\\\\\\\\']\\\\\\\\\\\\\\\\\\\\\\\\\\\\\\']\\\\\\\\\\\\\\']\\\\\\']\\']',\n",
       " '9: [\\'1: []\\', \"2: [\\'1: []\\']\", \\'3: [\\\\\\'1: []\\\\\\', \"2: [\\\\\\'1: []\\\\\\']\"]\\', \\'4: [\\\\\\'1: []\\\\\\', \"2: [\\\\\\'1: []\\\\\\']\", \\\\\\'3: [\\\\\\\\\\\\\\'1: []\\\\\\\\\\\\\\', \"2: [\\\\\\\\\\\\\\'1: []\\\\\\\\\\\\\\']\"]\\\\\\']\\', \\'5: [\\\\\\'1: []\\\\\\', \"2: [\\\\\\'1: []\\\\\\']\", \\\\\\'3: [\\\\\\\\\\\\\\'1: []\\\\\\\\\\\\\\', \"2: [\\\\\\\\\\\\\\'1: []\\\\\\\\\\\\\\']\"]\\\\\\', \\\\\\'4: [\\\\\\\\\\\\\\'1: []\\\\\\\\\\\\\\', \"2: [\\\\\\\\\\\\\\'1: []\\\\\\\\\\\\\\']\", \\\\\\\\\\\\\\'3: [\\\\\\\\\\\\\\\\\\\\\\\\\\\\\\'1: []\\\\\\\\\\\\\\\\\\\\\\\\\\\\\\', \"2: [\\\\\\\\\\\\\\\\\\\\\\\\\\\\\\'1: []\\\\\\\\\\\\\\\\\\\\\\\\\\\\\\']\"]\\\\\\\\\\\\\\']\\\\\\']\\', \\'6: [\\\\\\'1: []\\\\\\', \"2: [\\\\\\'1: []\\\\\\']\", \\\\\\'3: [\\\\\\\\\\\\\\'1: []\\\\\\\\\\\\\\', \"2: [\\\\\\\\\\\\\\'1: []\\\\\\\\\\\\\\']\"]\\\\\\', \\\\\\'4: [\\\\\\\\\\\\\\'1: []\\\\\\\\\\\\\\', \"2: [\\\\\\\\\\\\\\'1: []\\\\\\\\\\\\\\']\", \\\\\\\\\\\\\\'3: [\\\\\\\\\\\\\\\\\\\\\\\\\\\\\\'1: []\\\\\\\\\\\\\\\\\\\\\\\\\\\\\\', \"2: [\\\\\\\\\\\\\\\\\\\\\\\\\\\\\\'1: []\\\\\\\\\\\\\\\\\\\\\\\\\\\\\\']\"]\\\\\\\\\\\\\\']\\\\\\', \\\\\\'5: [\\\\\\\\\\\\\\'1: []\\\\\\\\\\\\\\', \"2: [\\\\\\\\\\\\\\'1: []\\\\\\\\\\\\\\']\", \\\\\\\\\\\\\\'3: [\\\\\\\\\\\\\\\\\\\\\\\\\\\\\\'1: []\\\\\\\\\\\\\\\\\\\\\\\\\\\\\\', \"2: [\\\\\\\\\\\\\\\\\\\\\\\\\\\\\\'1: []\\\\\\\\\\\\\\\\\\\\\\\\\\\\\\']\"]\\\\\\\\\\\\\\', \\\\\\\\\\\\\\'4: [\\\\\\\\\\\\\\\\\\\\\\\\\\\\\\'1: []\\\\\\\\\\\\\\\\\\\\\\\\\\\\\\', \"2: [\\\\\\\\\\\\\\\\\\\\\\\\\\\\\\'1: []\\\\\\\\\\\\\\\\\\\\\\\\\\\\\\']\", \\\\\\\\\\\\\\\\\\\\\\\\\\\\\\'3: [\\\\\\\\\\\\\\\\\\\\\\\\\\\\\\\\\\\\\\\\\\\\\\\\\\\\\\\\\\\\\\'1: []\\\\\\\\\\\\\\\\\\\\\\\\\\\\\\\\\\\\\\\\\\\\\\\\\\\\\\\\\\\\\\', \"2: [\\\\\\\\\\\\\\\\\\\\\\\\\\\\\\\\\\\\\\\\\\\\\\\\\\\\\\\\\\\\\\'1: []\\\\\\\\\\\\\\\\\\\\\\\\\\\\\\\\\\\\\\\\\\\\\\\\\\\\\\\\\\\\\\']\"]\\\\\\\\\\\\\\\\\\\\\\\\\\\\\\']\\\\\\\\\\\\\\']\\\\\\']\\', \\'7: [\\\\\\'1: []\\\\\\', \"2: [\\\\\\'1: []\\\\\\']\", \\\\\\'3: [\\\\\\\\\\\\\\'1: []\\\\\\\\\\\\\\', \"2: [\\\\\\\\\\\\\\'1: []\\\\\\\\\\\\\\']\"]\\\\\\', \\\\\\'4: [\\\\\\\\\\\\\\'1: []\\\\\\\\\\\\\\', \"2: [\\\\\\\\\\\\\\'1: []\\\\\\\\\\\\\\']\", \\\\\\\\\\\\\\'3: [\\\\\\\\\\\\\\\\\\\\\\\\\\\\\\'1: []\\\\\\\\\\\\\\\\\\\\\\\\\\\\\\', \"2: [\\\\\\\\\\\\\\\\\\\\\\\\\\\\\\'1: []\\\\\\\\\\\\\\\\\\\\\\\\\\\\\\']\"]\\\\\\\\\\\\\\']\\\\\\', \\\\\\'5: [\\\\\\\\\\\\\\'1: []\\\\\\\\\\\\\\', \"2: [\\\\\\\\\\\\\\'1: []\\\\\\\\\\\\\\']\", \\\\\\\\\\\\\\'3: [\\\\\\\\\\\\\\\\\\\\\\\\\\\\\\'1: []\\\\\\\\\\\\\\\\\\\\\\\\\\\\\\', \"2: [\\\\\\\\\\\\\\\\\\\\\\\\\\\\\\'1: []\\\\\\\\\\\\\\\\\\\\\\\\\\\\\\']\"]\\\\\\\\\\\\\\', \\\\\\\\\\\\\\'4: [\\\\\\\\\\\\\\\\\\\\\\\\\\\\\\'1: []\\\\\\\\\\\\\\\\\\\\\\\\\\\\\\', \"2: [\\\\\\\\\\\\\\\\\\\\\\\\\\\\\\'1: []\\\\\\\\\\\\\\\\\\\\\\\\\\\\\\']\", \\\\\\\\\\\\\\\\\\\\\\\\\\\\\\'3: [\\\\\\\\\\\\\\\\\\\\\\\\\\\\\\\\\\\\\\\\\\\\\\\\\\\\\\\\\\\\\\'1: []\\\\\\\\\\\\\\\\\\\\\\\\\\\\\\\\\\\\\\\\\\\\\\\\\\\\\\\\\\\\\\', \"2: [\\\\\\\\\\\\\\\\\\\\\\\\\\\\\\\\\\\\\\\\\\\\\\\\\\\\\\\\\\\\\\'1: []\\\\\\\\\\\\\\\\\\\\\\\\\\\\\\\\\\\\\\\\\\\\\\\\\\\\\\\\\\\\\\']\"]\\\\\\\\\\\\\\\\\\\\\\\\\\\\\\']\\\\\\\\\\\\\\']\\\\\\', \\\\\\'6: [\\\\\\\\\\\\\\'1: []\\\\\\\\\\\\\\', \"2: [\\\\\\\\\\\\\\'1: []\\\\\\\\\\\\\\']\", \\\\\\\\\\\\\\'3: [\\\\\\\\\\\\\\\\\\\\\\\\\\\\\\'1: []\\\\\\\\\\\\\\\\\\\\\\\\\\\\\\', \"2: [\\\\\\\\\\\\\\\\\\\\\\\\\\\\\\'1: []\\\\\\\\\\\\\\\\\\\\\\\\\\\\\\']\"]\\\\\\\\\\\\\\', \\\\\\\\\\\\\\'4: [\\\\\\\\\\\\\\\\\\\\\\\\\\\\\\'1: []\\\\\\\\\\\\\\\\\\\\\\\\\\\\\\', \"2: [\\\\\\\\\\\\\\\\\\\\\\\\\\\\\\'1: []\\\\\\\\\\\\\\\\\\\\\\\\\\\\\\']\", \\\\\\\\\\\\\\\\\\\\\\\\\\\\\\'3: [\\\\\\\\\\\\\\\\\\\\\\\\\\\\\\\\\\\\\\\\\\\\\\\\\\\\\\\\\\\\\\'1: []\\\\\\\\\\\\\\\\\\\\\\\\\\\\\\\\\\\\\\\\\\\\\\\\\\\\\\\\\\\\\\', \"2: [\\\\\\\\\\\\\\\\\\\\\\\\\\\\\\\\\\\\\\\\\\\\\\\\\\\\\\\\\\\\\\'1: []\\\\\\\\\\\\\\\\\\\\\\\\\\\\\\\\\\\\\\\\\\\\\\\\\\\\\\\\\\\\\\']\"]\\\\\\\\\\\\\\\\\\\\\\\\\\\\\\']\\\\\\\\\\\\\\', \\\\\\\\\\\\\\'5: [\\\\\\\\\\\\\\\\\\\\\\\\\\\\\\'1: []\\\\\\\\\\\\\\\\\\\\\\\\\\\\\\', \"2: [\\\\\\\\\\\\\\\\\\\\\\\\\\\\\\'1: []\\\\\\\\\\\\\\\\\\\\\\\\\\\\\\']\", \\\\\\\\\\\\\\\\\\\\\\\\\\\\\\'3: [\\\\\\\\\\\\\\\\\\\\\\\\\\\\\\\\\\\\\\\\\\\\\\\\\\\\\\\\\\\\\\'1: []\\\\\\\\\\\\\\\\\\\\\\\\\\\\\\\\\\\\\\\\\\\\\\\\\\\\\\\\\\\\\\', \"2: [\\\\\\\\\\\\\\\\\\\\\\\\\\\\\\\\\\\\\\\\\\\\\\\\\\\\\\\\\\\\\\'1: []\\\\\\\\\\\\\\\\\\\\\\\\\\\\\\\\\\\\\\\\\\\\\\\\\\\\\\\\\\\\\\']\"]\\\\\\\\\\\\\\\\\\\\\\\\\\\\\\', \\\\\\\\\\\\\\\\\\\\\\\\\\\\\\'4: [\\\\\\\\\\\\\\\\\\\\\\\\\\\\\\\\\\\\\\\\\\\\\\\\\\\\\\\\\\\\\\'1: []\\\\\\\\\\\\\\\\\\\\\\\\\\\\\\\\\\\\\\\\\\\\\\\\\\\\\\\\\\\\\\', \"2: [\\\\\\\\\\\\\\\\\\\\\\\\\\\\\\\\\\\\\\\\\\\\\\\\\\\\\\\\\\\\\\'1: []\\\\\\\\\\\\\\\\\\\\\\\\\\\\\\\\\\\\\\\\\\\\\\\\\\\\\\\\\\\\\\']\", \\\\\\\\\\\\\\\\\\\\\\\\\\\\\\\\\\\\\\\\\\\\\\\\\\\\\\\\\\\\\\'3: [\\\\\\\\\\\\\\\\\\\\\\\\\\\\\\\\\\\\\\\\\\\\\\\\\\\\\\\\\\\\\\\\\\\\\\\\\\\\\\\\\\\\\\\\\\\\\\\\\\\\\\\\\\\\\\\\\\\\\\\\\\\\\\'1: []\\\\\\\\\\\\\\\\\\\\\\\\\\\\\\\\\\\\\\\\\\\\\\\\\\\\\\\\\\\\\\\\\\\\\\\\\\\\\\\\\\\\\\\\\\\\\\\\\\\\\\\\\\\\\\\\\\\\\\\\\\\\\\', \"2: [\\\\\\\\\\\\\\\\\\\\\\\\\\\\\\\\\\\\\\\\\\\\\\\\\\\\\\\\\\\\\\\\\\\\\\\\\\\\\\\\\\\\\\\\\\\\\\\\\\\\\\\\\\\\\\\\\\\\\\\\\\\\\\'1: []\\\\\\\\\\\\\\\\\\\\\\\\\\\\\\\\\\\\\\\\\\\\\\\\\\\\\\\\\\\\\\\\\\\\\\\\\\\\\\\\\\\\\\\\\\\\\\\\\\\\\\\\\\\\\\\\\\\\\\\\\\\\\\']\"]\\\\\\\\\\\\\\\\\\\\\\\\\\\\\\\\\\\\\\\\\\\\\\\\\\\\\\\\\\\\\\']\\\\\\\\\\\\\\\\\\\\\\\\\\\\\\']\\\\\\\\\\\\\\']\\\\\\']\\', \\'8: [\\\\\\'1: []\\\\\\', \"2: [\\\\\\'1: []\\\\\\']\", \\\\\\'3: [\\\\\\\\\\\\\\'1: []\\\\\\\\\\\\\\', \"2: [\\\\\\\\\\\\\\'1: []\\\\\\\\\\\\\\']\"]\\\\\\', \\\\\\'4: [\\\\\\\\\\\\\\'1: []\\\\\\\\\\\\\\', \"2: [\\\\\\\\\\\\\\'1: []\\\\\\\\\\\\\\']\", \\\\\\\\\\\\\\'3: [\\\\\\\\\\\\\\\\\\\\\\\\\\\\\\'1: []\\\\\\\\\\\\\\\\\\\\\\\\\\\\\\', \"2: [\\\\\\\\\\\\\\\\\\\\\\\\\\\\\\'1: []\\\\\\\\\\\\\\\\\\\\\\\\\\\\\\']\"]\\\\\\\\\\\\\\']\\\\\\', \\\\\\'5: [\\\\\\\\\\\\\\'1: []\\\\\\\\\\\\\\', \"2: [\\\\\\\\\\\\\\'1: []\\\\\\\\\\\\\\']\", \\\\\\\\\\\\\\'3: [\\\\\\\\\\\\\\\\\\\\\\\\\\\\\\'1: []\\\\\\\\\\\\\\\\\\\\\\\\\\\\\\', \"2: [\\\\\\\\\\\\\\\\\\\\\\\\\\\\\\'1: []\\\\\\\\\\\\\\\\\\\\\\\\\\\\\\']\"]\\\\\\\\\\\\\\', \\\\\\\\\\\\\\'4: [\\\\\\\\\\\\\\\\\\\\\\\\\\\\\\'1: []\\\\\\\\\\\\\\\\\\\\\\\\\\\\\\', \"2: [\\\\\\\\\\\\\\\\\\\\\\\\\\\\\\'1: []\\\\\\\\\\\\\\\\\\\\\\\\\\\\\\']\", \\\\\\\\\\\\\\\\\\\\\\\\\\\\\\'3: [\\\\\\\\\\\\\\\\\\\\\\\\\\\\\\\\\\\\\\\\\\\\\\\\\\\\\\\\\\\\\\'1: []\\\\\\\\\\\\\\\\\\\\\\\\\\\\\\\\\\\\\\\\\\\\\\\\\\\\\\\\\\\\\\', \"2: [\\\\\\\\\\\\\\\\\\\\\\\\\\\\\\\\\\\\\\\\\\\\\\\\\\\\\\\\\\\\\\'1: []\\\\\\\\\\\\\\\\\\\\\\\\\\\\\\\\\\\\\\\\\\\\\\\\\\\\\\\\\\\\\\']\"]\\\\\\\\\\\\\\\\\\\\\\\\\\\\\\']\\\\\\\\\\\\\\']\\\\\\', \\\\\\'6: [\\\\\\\\\\\\\\'1: []\\\\\\\\\\\\\\', \"2: [\\\\\\\\\\\\\\'1: []\\\\\\\\\\\\\\']\", \\\\\\\\\\\\\\'3: [\\\\\\\\\\\\\\\\\\\\\\\\\\\\\\'1: []\\\\\\\\\\\\\\\\\\\\\\\\\\\\\\', \"2: [\\\\\\\\\\\\\\\\\\\\\\\\\\\\\\'1: []\\\\\\\\\\\\\\\\\\\\\\\\\\\\\\']\"]\\\\\\\\\\\\\\', \\\\\\\\\\\\\\'4: [\\\\\\\\\\\\\\\\\\\\\\\\\\\\\\'1: []\\\\\\\\\\\\\\\\\\\\\\\\\\\\\\', \"2: [\\\\\\\\\\\\\\\\\\\\\\\\\\\\\\'1: []\\\\\\\\\\\\\\\\\\\\\\\\\\\\\\']\", \\\\\\\\\\\\\\\\\\\\\\\\\\\\\\'3: [\\\\\\\\\\\\\\\\\\\\\\\\\\\\\\\\\\\\\\\\\\\\\\\\\\\\\\\\\\\\\\'1: []\\\\\\\\\\\\\\\\\\\\\\\\\\\\\\\\\\\\\\\\\\\\\\\\\\\\\\\\\\\\\\', \"2: [\\\\\\\\\\\\\\\\\\\\\\\\\\\\\\\\\\\\\\\\\\\\\\\\\\\\\\\\\\\\\\'1: []\\\\\\\\\\\\\\\\\\\\\\\\\\\\\\\\\\\\\\\\\\\\\\\\\\\\\\\\\\\\\\']\"]\\\\\\\\\\\\\\\\\\\\\\\\\\\\\\']\\\\\\\\\\\\\\', \\\\\\\\\\\\\\'5: [\\\\\\\\\\\\\\\\\\\\\\\\\\\\\\'1: []\\\\\\\\\\\\\\\\\\\\\\\\\\\\\\', \"2: [\\\\\\\\\\\\\\\\\\\\\\\\\\\\\\'1: []\\\\\\\\\\\\\\\\\\\\\\\\\\\\\\']\", \\\\\\\\\\\\\\\\\\\\\\\\\\\\\\'3: [\\\\\\\\\\\\\\\\\\\\\\\\\\\\\\\\\\\\\\\\\\\\\\\\\\\\\\\\\\\\\\'1: []\\\\\\\\\\\\\\\\\\\\\\\\\\\\\\\\\\\\\\\\\\\\\\\\\\\\\\\\\\\\\\', \"2: [\\\\\\\\\\\\\\\\\\\\\\\\\\\\\\\\\\\\\\\\\\\\\\\\\\\\\\\\\\\\\\'1: []\\\\\\\\\\\\\\\\\\\\\\\\\\\\\\\\\\\\\\\\\\\\\\\\\\\\\\\\\\\\\\']\"]\\\\\\\\\\\\\\\\\\\\\\\\\\\\\\', \\\\\\\\\\\\\\\\\\\\\\\\\\\\\\'4: [\\\\\\\\\\\\\\\\\\\\\\\\\\\\\\\\\\\\\\\\\\\\\\\\\\\\\\\\\\\\\\'1: []\\\\\\\\\\\\\\\\\\\\\\\\\\\\\\\\\\\\\\\\\\\\\\\\\\\\\\\\\\\\\\', \"2: [\\\\\\\\\\\\\\\\\\\\\\\\\\\\\\\\\\\\\\\\\\\\\\\\\\\\\\\\\\\\\\'1: []\\\\\\\\\\\\\\\\\\\\\\\\\\\\\\\\\\\\\\\\\\\\\\\\\\\\\\\\\\\\\\']\", \\\\\\\\\\\\\\\\\\\\\\\\\\\\\\\\\\\\\\\\\\\\\\\\\\\\\\\\\\\\\\'3: [\\\\\\\\\\\\\\\\\\\\\\\\\\\\\\\\\\\\\\\\\\\\\\\\\\\\\\\\\\\\\\\\\\\\\\\\\\\\\\\\\\\\\\\\\\\\\\\\\\\\\\\\\\\\\\\\\\\\\\\\\\\\\\'1: []\\\\\\\\\\\\\\\\\\\\\\\\\\\\\\\\\\\\\\\\\\\\\\\\\\\\\\\\\\\\\\\\\\\\\\\\\\\\\\\\\\\\\\\\\\\\\\\\\\\\\\\\\\\\\\\\\\\\\\\\\\\\\\', \"2: [\\\\\\\\\\\\\\\\\\\\\\\\\\\\\\\\\\\\\\\\\\\\\\\\\\\\\\\\\\\\\\\\\\\\\\\\\\\\\\\\\\\\\\\\\\\\\\\\\\\\\\\\\\\\\\\\\\\\\\\\\\\\\\'1: []\\\\\\\\\\\\\\\\\\\\\\\\\\\\\\\\\\\\\\\\\\\\\\\\\\\\\\\\\\\\\\\\\\\\\\\\\\\\\\\\\\\\\\\\\\\\\\\\\\\\\\\\\\\\\\\\\\\\\\\\\\\\\\']\"]\\\\\\\\\\\\\\\\\\\\\\\\\\\\\\\\\\\\\\\\\\\\\\\\\\\\\\\\\\\\\\']\\\\\\\\\\\\\\\\\\\\\\\\\\\\\\']\\\\\\\\\\\\\\']\\\\\\', \\\\\\'7: [\\\\\\\\\\\\\\'1: []\\\\\\\\\\\\\\', \"2: [\\\\\\\\\\\\\\'1: []\\\\\\\\\\\\\\']\", \\\\\\\\\\\\\\'3: [\\\\\\\\\\\\\\\\\\\\\\\\\\\\\\'1: []\\\\\\\\\\\\\\\\\\\\\\\\\\\\\\', \"2: [\\\\\\\\\\\\\\\\\\\\\\\\\\\\\\'1: []\\\\\\\\\\\\\\\\\\\\\\\\\\\\\\']\"]\\\\\\\\\\\\\\', \\\\\\\\\\\\\\'4: [\\\\\\\\\\\\\\\\\\\\\\\\\\\\\\'1: []\\\\\\\\\\\\\\\\\\\\\\\\\\\\\\', \"2: [\\\\\\\\\\\\\\\\\\\\\\\\\\\\\\'1: []\\\\\\\\\\\\\\\\\\\\\\\\\\\\\\']\", \\\\\\\\\\\\\\\\\\\\\\\\\\\\\\'3: [\\\\\\\\\\\\\\\\\\\\\\\\\\\\\\\\\\\\\\\\\\\\\\\\\\\\\\\\\\\\\\'1: []\\\\\\\\\\\\\\\\\\\\\\\\\\\\\\\\\\\\\\\\\\\\\\\\\\\\\\\\\\\\\\', \"2: [\\\\\\\\\\\\\\\\\\\\\\\\\\\\\\\\\\\\\\\\\\\\\\\\\\\\\\\\\\\\\\'1: []\\\\\\\\\\\\\\\\\\\\\\\\\\\\\\\\\\\\\\\\\\\\\\\\\\\\\\\\\\\\\\']\"]\\\\\\\\\\\\\\\\\\\\\\\\\\\\\\']\\\\\\\\\\\\\\', \\\\\\\\\\\\\\'5: [\\\\\\\\\\\\\\\\\\\\\\\\\\\\\\'1: []\\\\\\\\\\\\\\\\\\\\\\\\\\\\\\', \"2: [\\\\\\\\\\\\\\\\\\\\\\\\\\\\\\'1: []\\\\\\\\\\\\\\\\\\\\\\\\\\\\\\']\", \\\\\\\\\\\\\\\\\\\\\\\\\\\\\\'3: [\\\\\\\\\\\\\\\\\\\\\\\\\\\\\\\\\\\\\\\\\\\\\\\\\\\\\\\\\\\\\\'1: []\\\\\\\\\\\\\\\\\\\\\\\\\\\\\\\\\\\\\\\\\\\\\\\\\\\\\\\\\\\\\\', \"2: [\\\\\\\\\\\\\\\\\\\\\\\\\\\\\\\\\\\\\\\\\\\\\\\\\\\\\\\\\\\\\\'1: []\\\\\\\\\\\\\\\\\\\\\\\\\\\\\\\\\\\\\\\\\\\\\\\\\\\\\\\\\\\\\\']\"]\\\\\\\\\\\\\\\\\\\\\\\\\\\\\\', \\\\\\\\\\\\\\\\\\\\\\\\\\\\\\'4: [\\\\\\\\\\\\\\\\\\\\\\\\\\\\\\\\\\\\\\\\\\\\\\\\\\\\\\\\\\\\\\'1: []\\\\\\\\\\\\\\\\\\\\\\\\\\\\\\\\\\\\\\\\\\\\\\\\\\\\\\\\\\\\\\', \"2: [\\\\\\\\\\\\\\\\\\\\\\\\\\\\\\\\\\\\\\\\\\\\\\\\\\\\\\\\\\\\\\'1: []\\\\\\\\\\\\\\\\\\\\\\\\\\\\\\\\\\\\\\\\\\\\\\\\\\\\\\\\\\\\\\']\", \\\\\\\\\\\\\\\\\\\\\\\\\\\\\\\\\\\\\\\\\\\\\\\\\\\\\\\\\\\\\\'3: [\\\\\\\\\\\\\\\\\\\\\\\\\\\\\\\\\\\\\\\\\\\\\\\\\\\\\\\\\\\\\\\\\\\\\\\\\\\\\\\\\\\\\\\\\\\\\\\\\\\\\\\\\\\\\\\\\\\\\\\\\\\\\\'1: []\\\\\\\\\\\\\\\\\\\\\\\\\\\\\\\\\\\\\\\\\\\\\\\\\\\\\\\\\\\\\\\\\\\\\\\\\\\\\\\\\\\\\\\\\\\\\\\\\\\\\\\\\\\\\\\\\\\\\\\\\\\\\\', \"2: [\\\\\\\\\\\\\\\\\\\\\\\\\\\\\\\\\\\\\\\\\\\\\\\\\\\\\\\\\\\\\\\\\\\\\\\\\\\\\\\\\\\\\\\\\\\\\\\\\\\\\\\\\\\\\\\\\\\\\\\\\\\\\\'1: []\\\\\\\\\\\\\\\\\\\\\\\\\\\\\\\\\\\\\\\\\\\\\\\\\\\\\\\\\\\\\\\\\\\\\\\\\\\\\\\\\\\\\\\\\\\\\\\\\\\\\\\\\\\\\\\\\\\\\\\\\\\\\\']\"]\\\\\\\\\\\\\\\\\\\\\\\\\\\\\\\\\\\\\\\\\\\\\\\\\\\\\\\\\\\\\\']\\\\\\\\\\\\\\\\\\\\\\\\\\\\\\']\\\\\\\\\\\\\\', \\\\\\\\\\\\\\'6: [\\\\\\\\\\\\\\\\\\\\\\\\\\\\\\'1: []\\\\\\\\\\\\\\\\\\\\\\\\\\\\\\', \"2: [\\\\\\\\\\\\\\\\\\\\\\\\\\\\\\'1: []\\\\\\\\\\\\\\\\\\\\\\\\\\\\\\']\", \\\\\\\\\\\\\\\\\\\\\\\\\\\\\\'3: [\\\\\\\\\\\\\\\\\\\\\\\\\\\\\\\\\\\\\\\\\\\\\\\\\\\\\\\\\\\\\\'1: []\\\\\\\\\\\\\\\\\\\\\\\\\\\\\\\\\\\\\\\\\\\\\\\\\\\\\\\\\\\\\\', \"2: [\\\\\\\\\\\\\\\\\\\\\\\\\\\\\\\\\\\\\\\\\\\\\\\\\\\\\\\\\\\\\\'1: []\\\\\\\\\\\\\\\\\\\\\\\\\\\\\\\\\\\\\\\\\\\\\\\\\\\\\\\\\\\\\\']\"]\\\\\\\\\\\\\\\\\\\\\\\\\\\\\\', \\\\\\\\\\\\\\\\\\\\\\\\\\\\\\'4: [\\\\\\\\\\\\\\\\\\\\\\\\\\\\\\\\\\\\\\\\\\\\\\\\\\\\\\\\\\\\\\'1: []\\\\\\\\\\\\\\\\\\\\\\\\\\\\\\\\\\\\\\\\\\\\\\\\\\\\\\\\\\\\\\', \"2: [\\\\\\\\\\\\\\\\\\\\\\\\\\\\\\\\\\\\\\\\\\\\\\\\\\\\\\\\\\\\\\'1: []\\\\\\\\\\\\\\\\\\\\\\\\\\\\\\\\\\\\\\\\\\\\\\\\\\\\\\\\\\\\\\']\", \\\\\\\\\\\\\\\\\\\\\\\\\\\\\\\\\\\\\\\\\\\\\\\\\\\\\\\\\\\\\\'3: [\\\\\\\\\\\\\\\\\\\\\\\\\\\\\\\\\\\\\\\\\\\\\\\\\\\\\\\\\\\\\\\\\\\\\\\\\\\\\\\\\\\\\\\\\\\\\\\\\\\\\\\\\\\\\\\\\\\\\\\\\\\\\\'1: []\\\\\\\\\\\\\\\\\\\\\\\\\\\\\\\\\\\\\\\\\\\\\\\\\\\\\\\\\\\\\\\\\\\\\\\\\\\\\\\\\\\\\\\\\\\\\\\\\\\\\\\\\\\\\\\\\\\\\\\\\\\\\\', \"2: [\\\\\\\\\\\\\\\\\\\\\\\\\\\\\\\\\\\\\\\\\\\\\\\\\\\\\\\\\\\\\\\\\\\\\\\\\\\\\\\\\\\\\\\\\\\\\\\\\\\\\\\\\\\\\\\\\\\\\\\\\\\\\\'1: []\\\\\\\\\\\\\\\\\\\\\\\\\\\\\\\\\\\\\\\\\\\\\\\\\\\\\\\\\\\\\\\\\\\\\\\\\\\\\\\\\\\\\\\\\\\\\\\\\\\\\\\\\\\\\\\\\\\\\\\\\\\\\\']\"]\\\\\\\\\\\\\\\\\\\\\\\\\\\\\\\\\\\\\\\\\\\\\\\\\\\\\\\\\\\\\\']\\\\\\\\\\\\\\\\\\\\\\\\\\\\\\', \\\\\\\\\\\\\\\\\\\\\\\\\\\\\\'5: [\\\\\\\\\\\\\\\\\\\\\\\\\\\\\\\\\\\\\\\\\\\\\\\\\\\\\\\\\\\\\\'1: []\\\\\\\\\\\\\\\\\\\\\\\\\\\\\\\\\\\\\\\\\\\\\\\\\\\\\\\\\\\\\\', \"2: [\\\\\\\\\\\\\\\\\\\\\\\\\\\\\\\\\\\\\\\\\\\\\\\\\\\\\\\\\\\\\\'1: []\\\\\\\\\\\\\\\\\\\\\\\\\\\\\\\\\\\\\\\\\\\\\\\\\\\\\\\\\\\\\\']\", \\\\\\\\\\\\\\\\\\\\\\\\\\\\\\\\\\\\\\\\\\\\\\\\\\\\\\\\\\\\\\'3: [\\\\\\\\\\\\\\\\\\\\\\\\\\\\\\\\\\\\\\\\\\\\\\\\\\\\\\\\\\\\\\\\\\\\\\\\\\\\\\\\\\\\\\\\\\\\\\\\\\\\\\\\\\\\\\\\\\\\\\\\\\\\\\'1: []\\\\\\\\\\\\\\\\\\\\\\\\\\\\\\\\\\\\\\\\\\\\\\\\\\\\\\\\\\\\\\\\\\\\\\\\\\\\\\\\\\\\\\\\\\\\\\\\\\\\\\\\\\\\\\\\\\\\\\\\\\\\\\', \"2: [\\\\\\\\\\\\\\\\\\\\\\\\\\\\\\\\\\\\\\\\\\\\\\\\\\\\\\\\\\\\\\\\\\\\\\\\\\\\\\\\\\\\\\\\\\\\\\\\\\\\\\\\\\\\\\\\\\\\\\\\\\\\\\'1: []\\\\\\\\\\\\\\\\\\\\\\\\\\\\\\\\\\\\\\\\\\\\\\\\\\\\\\\\\\\\\\\\\\\\\\\\\\\\\\\\\\\\\\\\\\\\\\\\\\\\\\\\\\\\\\\\\\\\\\\\\\\\\\']\"]\\\\\\\\\\\\\\\\\\\\\\\\\\\\\\\\\\\\\\\\\\\\\\\\\\\\\\\\\\\\\\', \\\\\\\\\\\\\\\\\\\\\\\\\\\\\\\\\\\\\\\\\\\\\\\\\\\\\\\\\\\\\\'4: [\\\\\\\\\\\\\\\\\\\\\\\\\\\\\\\\\\\\\\\\\\\\\\\\\\\\\\\\\\\\\\\\\\\\\\\\\\\\\\\\\\\\\\\\\\\\\\\\\\\\\\\\\\\\\\\\\\\\\\\\\\\\\\'1: []\\\\\\\\\\\\\\\\\\\\\\\\\\\\\\\\\\\\\\\\\\\\\\\\\\\\\\\\\\\\\\\\\\\\\\\\\\\\\\\\\\\\\\\\\\\\\\\\\\\\\\\\\\\\\\\\\\\\\\\\\\\\\\', \"2: [\\\\\\\\\\\\\\\\\\\\\\\\\\\\\\\\\\\\\\\\\\\\\\\\\\\\\\\\\\\\\\\\\\\\\\\\\\\\\\\\\\\\\\\\\\\\\\\\\\\\\\\\\\\\\\\\\\\\\\\\\\\\\\'1: []\\\\\\\\\\\\\\\\\\\\\\\\\\\\\\\\\\\\\\\\\\\\\\\\\\\\\\\\\\\\\\\\\\\\\\\\\\\\\\\\\\\\\\\\\\\\\\\\\\\\\\\\\\\\\\\\\\\\\\\\\\\\\\']\", \\\\\\\\\\\\\\\\\\\\\\\\\\\\\\\\\\\\\\\\\\\\\\\\\\\\\\\\\\\\\\\\\\\\\\\\\\\\\\\\\\\\\\\\\\\\\\\\\\\\\\\\\\\\\\\\\\\\\\\\\\\\\\'3: [\\\\\\\\\\\\\\\\\\\\\\\\\\\\\\\\\\\\\\\\\\\\\\\\\\\\\\\\\\\\\\\\\\\\\\\\\\\\\\\\\\\\\\\\\\\\\\\\\\\\\\\\\\\\\\\\\\\\\\\\\\\\\\\\\\\\\\\\\\\\\\\\\\\\\\\\\\\\\\\\\\\\\\\\\\\\\\\\\\\\\\\\\\\\\\\\\\\\\\\\\\\\\\\\\\\\\\\\\\\\\\\\\\\\\\\\\\\\\\\\\\\\\\\\\\\\\\'1: []\\\\\\\\\\\\\\\\\\\\\\\\\\\\\\\\\\\\\\\\\\\\\\\\\\\\\\\\\\\\\\\\\\\\\\\\\\\\\\\\\\\\\\\\\\\\\\\\\\\\\\\\\\\\\\\\\\\\\\\\\\\\\\\\\\\\\\\\\\\\\\\\\\\\\\\\\\\\\\\\\\\\\\\\\\\\\\\\\\\\\\\\\\\\\\\\\\\\\\\\\\\\\\\\\\\\\\\\\\\\\\\\\\\\\\\\\\\\\\\\\\\\\\\\\\\\\\', \"2: [\\\\\\\\\\\\\\\\\\\\\\\\\\\\\\\\\\\\\\\\\\\\\\\\\\\\\\\\\\\\\\\\\\\\\\\\\\\\\\\\\\\\\\\\\\\\\\\\\\\\\\\\\\\\\\\\\\\\\\\\\\\\\\\\\\\\\\\\\\\\\\\\\\\\\\\\\\\\\\\\\\\\\\\\\\\\\\\\\\\\\\\\\\\\\\\\\\\\\\\\\\\\\\\\\\\\\\\\\\\\\\\\\\\\\\\\\\\\\\\\\\\\\\\\\\\\\\'1: []\\\\\\\\\\\\\\\\\\\\\\\\\\\\\\\\\\\\\\\\\\\\\\\\\\\\\\\\\\\\\\\\\\\\\\\\\\\\\\\\\\\\\\\\\\\\\\\\\\\\\\\\\\\\\\\\\\\\\\\\\\\\\\\\\\\\\\\\\\\\\\\\\\\\\\\\\\\\\\\\\\\\\\\\\\\\\\\\\\\\\\\\\\\\\\\\\\\\\\\\\\\\\\\\\\\\\\\\\\\\\\\\\\\\\\\\\\\\\\\\\\\\\\\\\\\\\\']\"]\\\\\\\\\\\\\\\\\\\\\\\\\\\\\\\\\\\\\\\\\\\\\\\\\\\\\\\\\\\\\\\\\\\\\\\\\\\\\\\\\\\\\\\\\\\\\\\\\\\\\\\\\\\\\\\\\\\\\\\\\\\\\\']\\\\\\\\\\\\\\\\\\\\\\\\\\\\\\\\\\\\\\\\\\\\\\\\\\\\\\\\\\\\\\']\\\\\\\\\\\\\\\\\\\\\\\\\\\\\\']\\\\\\\\\\\\\\']\\\\\\']\\']']"
      ]
     },
     "execution_count": 5,
     "metadata": {},
     "output_type": "execute_result"
    }
   ],
   "source": [
    "fibo(9)"
   ]
  },
  {
   "cell_type": "markdown",
   "metadata": {
    "scrolled": false
   },
   "source": [
    "1: 1<br>\n",
    "2: 1<br>\n",
    "3: 2<br>\n",
    "4: 3<br>\n",
    "5: 5<br>\n",
    "6: 8<br>\n",
    "7: 13<br>"
   ]
  },
  {
   "cell_type": "code",
   "execution_count": null,
   "metadata": {},
   "outputs": [],
   "source": []
  }
 ],
 "metadata": {
  "kernelspec": {
   "display_name": "Python 3",
   "language": "python",
   "name": "python3"
  },
  "language_info": {
   "codemirror_mode": {
    "name": "ipython",
    "version": 3
   },
   "file_extension": ".py",
   "mimetype": "text/x-python",
   "name": "python",
   "nbconvert_exporter": "python",
   "pygments_lexer": "ipython3",
   "version": "3.9.1"
  }
 },
 "nbformat": 4,
 "nbformat_minor": 2
}
