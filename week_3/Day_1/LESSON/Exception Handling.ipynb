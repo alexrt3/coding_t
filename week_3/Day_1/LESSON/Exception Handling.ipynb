{
 "cells": [
  {
   "cell_type": "code",
   "execution_count": null,
   "id": "bigger-asset",
   "metadata": {},
   "outputs": [
    {
     "name": "stdout",
     "output_type": "stream",
     "text": [
      "Press \"ENTER\" to continue. Type \"exit\" to quit program. \n",
      "Type in the first name of your employee. derek\n",
      "Type in the last name of your employee. hawkins\n",
      "Type in your employee's age. 33\n",
      "Is it this person's birthday today? y\n",
      "can only concatenate str (not \"int\") to str\n",
      "There was an error creating your employee\n"
     ]
    }
   ],
   "source": [
    "class Employee:\n",
    "    _list = []\n",
    "    \n",
    "    def __init__(self, f_name=None, l_name=None, age=None, email=None):\n",
    "        self.first_name = f_name\n",
    "        self.last_name = l_name\n",
    "        self.age = age\n",
    "        self.email = email\n",
    "        self._list.append(self)\n",
    "    \n",
    "    def set_email(self):\n",
    "        if self.first_name and self.last_name:\n",
    "            self.email = f'{self.first_name}{self.last_name[0]}@codingtemple.com'.lower()\n",
    "            \n",
    "    def birthday(self):\n",
    "        self.age += 1\n",
    "            \n",
    "    def __str__(self):\n",
    "        print(f'{self.first_name} {self.last_name}')\n",
    "    \n",
    "class Management:\n",
    "    @classmethod\n",
    "    def run(self):\n",
    "        done = False\n",
    "        exit_program = False\n",
    "        while not exit_program:\n",
    "            confirm = input('Press \"ENTER\" to continue. Type \"exit\" to quit program. ').lower()\n",
    "            if confirm == 'exit':\n",
    "                exit_program = True\n",
    "            else:\n",
    "                try:\n",
    "                    fn = input(\"Type in the first name of your employee. \")\n",
    "                    ln = input(\"Type in the last name of your employee. \")\n",
    "                    age = input(\"Type in your employee's age. \")\n",
    "                    e = Employee(fn, ln, age)\n",
    "                    e.set_email()\n",
    "\n",
    "                    birthday = input(\"Is it this person's birthday today? \" ).lower()\n",
    "                    if birthday == 'y':\n",
    "                        e.birthday()\n",
    "                except TypeError as error:\n",
    "                    print(error)\n",
    "                    print('There was an error creating your employee')\n",
    "                \n",
    "        \n",
    "        print([print(e) for e in Employee._list])\n",
    "        \n",
    "Management.run()"
   ]
  }
 ],
 "metadata": {
  "kernelspec": {
   "display_name": "Python 3",
   "language": "python",
   "name": "python3"
  },
  "language_info": {
   "codemirror_mode": {
    "name": "ipython",
    "version": 3
   },
   "file_extension": ".py",
   "mimetype": "text/x-python",
   "name": "python",
   "nbconvert_exporter": "python",
   "pygments_lexer": "ipython3",
   "version": "3.9.1"
  }
 },
 "nbformat": 4,
 "nbformat_minor": 5
}
