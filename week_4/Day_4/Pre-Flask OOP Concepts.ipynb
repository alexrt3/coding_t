{
 "cells": [
  {
   "cell_type": "code",
   "execution_count": 1,
   "metadata": {},
   "outputs": [],
   "source": [
    "import random, shortuuid\n",
    "from datetime import datetime as dt\n",
    "\n",
    "def generate_uuid():\n",
    "    uuid = int(shortuuid.ShortUUID(alphabet=\"0123456789\").random(length=10))\n",
    "    return uuid\n",
    "\n",
    "class User:\n",
    "    _list = []\n",
    "    \n",
    "    def __init__(self, first_name, last_name):\n",
    "        self.user_id = generate_uuid()\n",
    "        self.first_name = first_name\n",
    "        self.last_name = last_name\n",
    "        self.email = f'{self.first_name}{self.last_name[0]}@codingtemple.com'.lower()\n",
    "        self.posts = []\n",
    "        self._list.append(self)\n",
    "        \n",
    "    def __repr__(self):\n",
    "        return f'<User: ID: {self.user_id} --> {self.email}>'\n",
    "    \n",
    "class Post:\n",
    "    _list = []\n",
    "    \n",
    "    def __init__(self, title, body, user_id):\n",
    "        self.post_id = generate_uuid()\n",
    "        self.title = title\n",
    "        self.body = body\n",
    "        self.date_created = dt.utcnow()\n",
    "        self.user_id = int(user_id)\n",
    "        self._list.append(self)\n",
    "        for u in User._list:\n",
    "            if u.user_id == self.user_id:\n",
    "                u.posts.append(self)\n",
    "        \n",
    "\n",
    "        \n",
    "    \n"
   ]
  },
  {
   "cell_type": "code",
   "execution_count": 2,
   "metadata": {},
   "outputs": [
    {
     "data": {
      "text/plain": [
       "[{'user_id': 5255969557,\n",
       "  'first_name': 'Derek',\n",
       "  'last_name': 'Hawkins',\n",
       "  'email': 'derekh@codingtemple.com',\n",
       "  'posts': []},\n",
       " {'user_id': 9493722079,\n",
       "  'first_name': 'Alex',\n",
       "  'last_name': 'Tsang',\n",
       "  'email': 'alext@codingtemple.com',\n",
       "  'posts': []}]"
      ]
     },
     "execution_count": 2,
     "metadata": {},
     "output_type": "execute_result"
    }
   ],
   "source": [
    "u1 = User('Derek', 'Hawkins')\n",
    "u2 = User('Alex', 'Tsang')\n",
    "\n",
    "[u.__dict__ for u in User._list]\n",
    "\n"
   ]
  },
  {
   "cell_type": "code",
   "execution_count": 3,
   "metadata": {},
   "outputs": [
    {
     "data": {
      "text/plain": [
       "[<__main__.Post at 0x1a0b04c05e0>]"
      ]
     },
     "execution_count": 3,
     "metadata": {},
     "output_type": "execute_result"
    }
   ],
   "source": [
    "Post(\"Alex's First Post\", \"This is really something!\", 9493722079)\n",
    "Post._list"
   ]
  },
  {
   "cell_type": "code",
   "execution_count": 4,
   "metadata": {},
   "outputs": [
    {
     "name": "stdout",
     "output_type": "stream",
     "text": [
      "{'post_id': 8581886140, 'title': \"Alex's First Post\", 'body': 'This is really something!', 'date_created': datetime.datetime(2021, 2, 12, 3, 21, 24, 514718), 'user_id': 9493722079}\n"
     ]
    }
   ],
   "source": [
    "for p in u2.posts:\n",
    "    print(p.__dict__)"
   ]
  },
  {
   "cell_type": "code",
   "execution_count": null,
   "metadata": {},
   "outputs": [],
   "source": []
  }
 ],
 "metadata": {
  "kernelspec": {
   "display_name": "Python 3",
   "language": "python",
   "name": "python3"
  },
  "language_info": {
   "codemirror_mode": {
    "name": "ipython",
    "version": 3
   },
   "file_extension": ".py",
   "mimetype": "text/x-python",
   "name": "python",
   "nbconvert_exporter": "python",
   "pygments_lexer": "ipython3",
   "version": "3.8.5"
  }
 },
 "nbformat": 4,
 "nbformat_minor": 5
}
