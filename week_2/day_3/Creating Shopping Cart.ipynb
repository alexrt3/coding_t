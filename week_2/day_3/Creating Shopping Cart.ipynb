{
 "cells": [
  {
   "cell_type": "code",
   "execution_count": 15,
   "id": "assumed-monthly",
   "metadata": {},
   "outputs": [
    {
     "name": "stdout",
     "output_type": "stream",
     "text": [
      "What item would you like to add? apple\n"
     ]
    },
    {
     "ename": "NameError",
     "evalue": "name 'val' is not defined",
     "output_type": "error",
     "traceback": [
      "\u001b[1;31m---------------------------------------------------------------------------\u001b[0m",
      "\u001b[1;31mNameError\u001b[0m                                 Traceback (most recent call last)",
      "\u001b[1;32m<ipython-input-15-838d86990656>\u001b[0m in \u001b[0;36m<module>\u001b[1;34m\u001b[0m\n\u001b[0;32m     30\u001b[0m     \u001b[1;32melif\u001b[0m \u001b[0mask\u001b[0m \u001b[1;33m==\u001b[0m \u001b[1;34m'add'\u001b[0m\u001b[1;33m:\u001b[0m\u001b[1;33m\u001b[0m\u001b[1;33m\u001b[0m\u001b[0m\n\u001b[0;32m     31\u001b[0m         \u001b[0mitem\u001b[0m \u001b[1;33m=\u001b[0m \u001b[0minput\u001b[0m\u001b[1;33m(\u001b[0m\u001b[1;34m\"What item would you like to add? \"\u001b[0m\u001b[1;33m)\u001b[0m\u001b[1;33m\u001b[0m\u001b[1;33m\u001b[0m\u001b[0m\n\u001b[1;32m---> 32\u001b[1;33m         \u001b[1;32mif\u001b[0m \u001b[0mval\u001b[0m \u001b[1;32min\u001b[0m \u001b[0ma_list\u001b[0m\u001b[1;33m:\u001b[0m\u001b[1;33m\u001b[0m\u001b[1;33m\u001b[0m\u001b[0m\n\u001b[0m\u001b[0;32m     33\u001b[0m             \u001b[0mprint\u001b[0m\u001b[1;33m(\u001b[0m\u001b[1;34m\"\"\u001b[0m\u001b[1;33m)\u001b[0m\u001b[1;33m\u001b[0m\u001b[1;33m\u001b[0m\u001b[0m\n\u001b[0;32m     34\u001b[0m         \u001b[0madd_item\u001b[0m\u001b[1;33m(\u001b[0m\u001b[0mshopping_cart\u001b[0m\u001b[1;33m,\u001b[0m \u001b[0mitem\u001b[0m\u001b[1;33m)\u001b[0m\u001b[1;33m\u001b[0m\u001b[1;33m\u001b[0m\u001b[0m\n",
      "\u001b[1;31mNameError\u001b[0m: name 'val' is not defined"
     ]
    }
   ],
   "source": [
    "from IPython.display import clear_output as co\n",
    "\n",
    "def add_item(a_list, item):\n",
    "    a_list.append(item)\n",
    "def remove_item():\n",
    "    a_list.remove(item)\n",
    "def show_list():\n",
    "    new_list = list(set(a_list))\n",
    "    for idx, val in enumerate(new_list):\n",
    "        print(f\"{idx+1}: {val} [{a_list.count(val)}]\")\n",
    "\n",
    "def show_instructions():\n",
    "    print(\"=\" * 50)\n",
    "    print(\"\"\"Type 'add' to add item to cart.\n",
    "Type 'remove' to remove an item from cart.\n",
    "Type 'show' to view all items in your cart.\n",
    "Type 'quit' to exit program and show your list.\"\"\")\n",
    "    print(\"=\" * 50)\n",
    "\n",
    "shopping_cart = []\n",
    "\n",
    "done = False\n",
    "while not done:\n",
    "    show_instructions()\n",
    "    ask = input(\"Type the command you'd like to run\")\n",
    "    co()\n",
    "    \n",
    "    if ask == 'quit':\n",
    "        done = True\n",
    "    elif ask == 'add':\n",
    "        item = input(\"What item would you like to add? \")\n",
    "        if val in a_list:\n",
    "            print(\"\")\n",
    "        add_item(shopping_cart, item)\n",
    "        show_list(shopping_cart)\n",
    "    elif ask == 'remove':\n",
    "        item = input(\"What item would you like to remove? \")\n",
    "        remove_item(shopping_cart, item)\n",
    "        show_list(shopping_cart)\n",
    "   \n",
    "        \n",
    "              "
   ]
  },
  {
   "cell_type": "code",
   "execution_count": null,
   "id": "lightweight-bangkok",
   "metadata": {},
   "outputs": [],
   "source": []
  }
 ],
 "metadata": {
  "kernelspec": {
   "display_name": "Python 3",
   "language": "python",
   "name": "python3"
  },
  "language_info": {
   "codemirror_mode": {
    "name": "ipython",
    "version": 3
   },
   "file_extension": ".py",
   "mimetype": "text/x-python",
   "name": "python",
   "nbconvert_exporter": "python",
   "pygments_lexer": "ipython3",
   "version": "3.9.1"
  }
 },
 "nbformat": 4,
 "nbformat_minor": 5
}
