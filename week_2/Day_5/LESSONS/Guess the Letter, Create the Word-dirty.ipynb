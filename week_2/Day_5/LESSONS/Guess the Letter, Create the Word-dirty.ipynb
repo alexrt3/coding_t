{
 "cells": [
  {
   "cell_type": "markdown",
   "metadata": {},
   "source": [
    "**Create a Letter Guessing Game**\n",
    "\n",
    "Create a program that allows a user 7 chances to guess the correct word. If they do not guess the word after 7 tries, the player loses and the program will print the correct word. Otherwise, the play wins and the game.\n",
    "\n",
    "**How to build the program**\n",
    "* When you start the game, you will need to select a random word from a list of at least 10 words (You have full control over which words you want to use for you program). This will be your secret word. Your secret word will be represented in the program as a group of underscores. For as long as the word is, you should also have that many underscores. \n",
    "\n",
    "* Once the word is selected, your game will commence. Perform a Google search to figure out how to select a random word from a list using Python.<br>\n",
    "**Hint** There's package you can import into your application that does this for you.\n",
    "\n",
    "* The end user will have a total of 7 chances to guess the correct letter from the secret word. If the end user makes 7 incorrect guesses, the game will end.\n",
    "\n",
    "* As you guess the correct letters, the letters you have guess will then take place of the underscores that letter represents. <br>\n",
    "**For Example**: If your secret word is 'watermelon' and  so far you have guessed the letters 'a' and 'e', the word you're trying to guess will appear as follows: _ a _ e _ _ e _ _ _.<br>\n",
    "**Keep in mind** that if you guess a letter that appears more than once in your secret word, make sure that the letter is populated anywhere that letter would be."
   ]
  },
  {
   "cell_type": "code",
   "execution_count": 18,
   "metadata": {
    "scrolled": false
   },
   "outputs": [
    {
     "name": "stdout",
     "output_type": "stream",
     "text": [
      "That is invalid input. Try again.\n",
      "Press 'ENTER' to continue. 'Quit' to exit program. quit\n"
     ]
    }
   ],
   "source": [
    "import random\n",
    "from IPython.display import clear_output as co\n",
    "\n",
    "\n",
    "class Word:\n",
    "    words = ['cat', 'dog', 'owl', 'eagle', 'elephant', 'platypus']\n",
    "    \n",
    "    def __init__(self):\n",
    "        self.known = random.choice(self.words)\n",
    "        self.to_guess = ['_' for i in list(self.known)]\n",
    "        \n",
    "    def __str__(self):\n",
    "        return self.known\n",
    "\n",
    "class Game:\n",
    "    letter_list = []\n",
    "    guesses = 7\n",
    "    \n",
    "    @classmethod\n",
    "    def game_over(self, w):\n",
    "        print(f\"You did not guess the word. Here's the correct word: {w}\")\n",
    "        \n",
    "    @classmethod\n",
    "    def game_won(self):\n",
    "        print(\"Congratulations! You've guessed the word!\")\n",
    "    \n",
    "    @classmethod\n",
    "    def run(self):\n",
    "        word = Word()\n",
    "        print(word)\n",
    "        \n",
    "        while True:\n",
    "            confirm = input(\"Press 'ENTER' to continue. 'Quit' to exit program. \").lower()\n",
    "            if confirm == 'quit':\n",
    "                break\n",
    "            if '_' not in word.to_guess:\n",
    "                Game.game_won()\n",
    "                break\n",
    "            if self.guesses == 0:\n",
    "                Game.game_over(word.known)\n",
    "                break\n",
    "            co()\n",
    "            \n",
    "            print(' '.join(word.to_guess))\n",
    "            \n",
    "            print('=' * 50)\n",
    "            print(f'Guesses remaining: {self.guesses}')\n",
    "            guess = input('Guess a letter: ')\n",
    "            \n",
    "            if guess.isalpha():\n",
    "                if guess in word.known:\n",
    "                    # loop through letters\n",
    "                    for idx, letter in enumerate(word.known):\n",
    "                        # if the letter we're looking for has been found\n",
    "                        if letter == guess:\n",
    "                            # find the index of that letter and replace it\n",
    "                            word.to_guess[idx] = guess\n",
    "                else:\n",
    "                    self.guesses -= 1\n",
    "            else:\n",
    "                co()\n",
    "                print('That is invalid input. Try again.')\n",
    "                continue\n",
    "        \n",
    "Game.run()"
   ]
  },
  {
   "cell_type": "code",
   "execution_count": 19,
   "metadata": {},
   "outputs": [
    {
     "name": "stdout",
     "output_type": "stream",
     "text": [
      "dog\n",
      "['_', '_', '_']\n"
     ]
    }
   ],
   "source": [
    "words = ['cat', 'dog', 'owl', 'eagle', 'elephant', 'platypus']\n",
    "\n",
    "known = random.choice(words)\n",
    "\n",
    "to_guess = ['_' for i in list(known)]\n",
    "\n",
    "print(known)\n",
    "print(to_guess)"
   ]
  },
  {
   "cell_type": "code",
   "execution_count": 40,
   "metadata": {},
   "outputs": [],
   "source": [
    "class A:\n",
    "    def __init__(self):\n",
    "        self.greeting = \"Hello\"\n",
    "    \n",
    "    @classmethod\n",
    "    def do_something(self):\n",
    "        print(self.greeting)\n",
    "        print(\"Hello\")"
   ]
  },
  {
   "cell_type": "code",
   "execution_count": 41,
   "metadata": {},
   "outputs": [
    {
     "ename": "AttributeError",
     "evalue": "type object 'A' has no attribute 'greeting'",
     "output_type": "error",
     "traceback": [
      "\u001b[0;31m---------------------------------------------------------------------------\u001b[0m",
      "\u001b[0;31mAttributeError\u001b[0m                            Traceback (most recent call last)",
      "\u001b[0;32m<ipython-input-41-38b3637d5f94>\u001b[0m in \u001b[0;36m<module>\u001b[0;34m\u001b[0m\n\u001b[1;32m      1\u001b[0m \u001b[0ma\u001b[0m \u001b[0;34m=\u001b[0m \u001b[0mA\u001b[0m\u001b[0;34m(\u001b[0m\u001b[0;34m)\u001b[0m\u001b[0;34m\u001b[0m\u001b[0;34m\u001b[0m\u001b[0m\n\u001b[0;32m----> 2\u001b[0;31m \u001b[0ma\u001b[0m\u001b[0;34m.\u001b[0m\u001b[0mdo_something\u001b[0m\u001b[0;34m(\u001b[0m\u001b[0;34m)\u001b[0m\u001b[0;34m\u001b[0m\u001b[0;34m\u001b[0m\u001b[0m\n\u001b[0m",
      "\u001b[0;32m<ipython-input-40-e6c4e12f8565>\u001b[0m in \u001b[0;36mdo_something\u001b[0;34m(self)\u001b[0m\n\u001b[1;32m      5\u001b[0m     \u001b[0;34m@\u001b[0m\u001b[0mclassmethod\u001b[0m\u001b[0;34m\u001b[0m\u001b[0;34m\u001b[0m\u001b[0m\n\u001b[1;32m      6\u001b[0m     \u001b[0;32mdef\u001b[0m \u001b[0mdo_something\u001b[0m\u001b[0;34m(\u001b[0m\u001b[0mself\u001b[0m\u001b[0;34m)\u001b[0m\u001b[0;34m:\u001b[0m\u001b[0;34m\u001b[0m\u001b[0;34m\u001b[0m\u001b[0m\n\u001b[0;32m----> 7\u001b[0;31m         \u001b[0mprint\u001b[0m\u001b[0;34m(\u001b[0m\u001b[0mself\u001b[0m\u001b[0;34m.\u001b[0m\u001b[0mgreeting\u001b[0m\u001b[0;34m)\u001b[0m\u001b[0;34m\u001b[0m\u001b[0;34m\u001b[0m\u001b[0m\n\u001b[0m\u001b[1;32m      8\u001b[0m         \u001b[0mprint\u001b[0m\u001b[0;34m(\u001b[0m\u001b[0;34m\"Hello\"\u001b[0m\u001b[0;34m)\u001b[0m\u001b[0;34m\u001b[0m\u001b[0;34m\u001b[0m\u001b[0m\n",
      "\u001b[0;31mAttributeError\u001b[0m: type object 'A' has no attribute 'greeting'"
     ]
    }
   ],
   "source": [
    "a = A()\n",
    "a.do_something()"
   ]
  },
  {
   "cell_type": "code",
   "execution_count": 25,
   "metadata": {},
   "outputs": [
    {
     "name": "stdout",
     "output_type": "stream",
     "text": [
      "Hello\n"
     ]
    }
   ],
   "source": [
    "A.do_something()"
   ]
  },
  {
   "cell_type": "code",
   "execution_count": 29,
   "metadata": {},
   "outputs": [
    {
     "data": {
      "text/plain": [
       "'_ _ _ _ _ _ _ _'"
      ]
     },
     "execution_count": 29,
     "metadata": {},
     "output_type": "execute_result"
    }
   ],
   "source": [
    "word = ['_' for i in list('platypus')]\n",
    "\n",
    "' '.join(word)"
   ]
  },
  {
   "cell_type": "code",
   "execution_count": 31,
   "metadata": {},
   "outputs": [],
   "source": [
    "class Employee:\n",
    "    _all = []\n",
    "    \n",
    "    def __init__(self, first_name, last_name):\n",
    "        self.first_name = first_name\n",
    "        self.last_name = last_name\n",
    "        self.email = f'{first_name}{last_name[0]}@codingtemple.com'.lower()\n",
    "        self._all.append(self)\n",
    "        \n",
    "    def __repr__(self):\n",
    "        return f'<Employee: {self.email}>'\n",
    "\n",
    "class Manager(Employee):\n",
    "    pass\n",
    "\n",
    "class Supervisor(Employee, Manager):\n",
    "    pass\n",
    "\n",
    "class Developer(Employee):\n",
    "    pass\n",
    "\n",
    "e1 = Employee('Ripal', 'Patel')\n",
    "e2 = Employee('Frank', 'Girolamo')"
   ]
  },
  {
   "cell_type": "code",
   "execution_count": 32,
   "metadata": {},
   "outputs": [
    {
     "data": {
      "text/plain": [
       "[<Employee: ripalp@codingtemple.com>, <Employee: frankg@codingtemple.com>]"
      ]
     },
     "execution_count": 32,
     "metadata": {},
     "output_type": "execute_result"
    }
   ],
   "source": [
    "Employee._all"
   ]
  },
  {
   "cell_type": "code",
   "execution_count": null,
   "metadata": {},
   "outputs": [],
   "source": [
    "# ORM - Object Relational Mapper"
   ]
  },
  {
   "cell_type": "code",
   "execution_count": 39,
   "metadata": {},
   "outputs": [
    {
     "name": "stdout",
     "output_type": "stream",
     "text": [
      "ripalp@codingtemple.com\n",
      "frankg@codingtemple.com\n"
     ]
    }
   ],
   "source": [
    "class Employee:\n",
    "    _all = []\n",
    "    \n",
    "    def __init__(self, first_name, last_name):\n",
    "        self.first_name = first_name\n",
    "        self.last_name = last_name\n",
    "        self.email = self.create_email()\n",
    "        self._all.append(self)\n",
    "        \n",
    "    def create_email(self):\n",
    "        return f'{self.first_name}{self.last_name[0]}@codingtemple.com'.lower()\n",
    "        \n",
    "    def __repr__(self):\n",
    "        return f'<Employee: {self.email}>'\n",
    "\n",
    "class Manager(Employee):\n",
    "    pass\n",
    "\n",
    "class Developer(Employee):\n",
    "    pass\n",
    "\n",
    "e1 = Employee('Ripal', 'Patel')\n",
    "e2 = Employee('Frank', 'Girolamo')"
   ]
  },
  {
   "cell_type": "code",
   "execution_count": 37,
   "metadata": {
    "scrolled": true
   },
   "outputs": [
    {
     "data": {
      "text/plain": [
       "[{'first_name': 'Ripal',\n",
       "  'last_name': 'Patel',\n",
       "  'email': 'ripalp@codingtemple.com'},\n",
       " {'first_name': 'Frank',\n",
       "  'last_name': 'Girolamo',\n",
       "  'email': 'frankg@codingtemple.com'}]"
      ]
     },
     "execution_count": 37,
     "metadata": {},
     "output_type": "execute_result"
    }
   ],
   "source": [
    "[i.__dict__ for i in Employee._all]"
   ]
  }
 ],
 "metadata": {
  "kernelspec": {
   "display_name": "Python 3",
   "language": "python",
   "name": "python3"
  }
 },
 "nbformat": 4,
 "nbformat_minor": 2
}
