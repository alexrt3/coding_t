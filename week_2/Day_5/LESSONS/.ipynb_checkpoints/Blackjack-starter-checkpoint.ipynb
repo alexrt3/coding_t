{
 "cells": [
  {
   "cell_type": "markdown",
   "metadata": {},
   "source": [
    "## Python Blackjack\n",
    "For this project you will make a Blackjack game using Python. Click <a href=\"\">here</a> to familiarize yourself with the the rules of the game. You won't be implementing every rule \"down to the letter\" with the game, but we will doing a simpler version of the game. This assignment will be given to further test your knowledge on object-oriented programming concepts.\n",
    "\n",
    "### Rules:\n",
    "\n",
    "`1. ` The game will have two players: the Dealer and the Player. The game will start off with a deck of 52 cards. The 52 cards will consist of 4 different suits: Clubs, Diamonds, Hearts and Spades. For each suit, there will be cards numbered 1 through 13. <br>\n",
    "**Note: No wildcards will be used in the program**\n",
    "\n",
    "`2. ` When the game begins, the dealer will shuffle the deck of cards, making them randomized. After the dealer shuffles, it will deal the player 2 cards and will deal itself 2 cards from. The Player should be able to see both of their own cards, but should only be able to see one of the Dealer's cards.\n",
    " \n",
    "`3. ` The objective of the game is for the Player to count their cards after they're dealt. If they're not satisfied with the number, they have the ability to 'Hit'. A hit allows the dealer to deal the Player one additional card. The Player can hit as many times as they'd like as long as they don't 'Bust'. A bust is when the Player is dealt cards that total more than 21.\n",
    "\n",
    "`4. ` If the dealer deals the Player cards equal to 21 on the **first** deal, the Player wins. This is referred to as Blackjack. Blackjack is **NOT** the same as getting cards that equal up to 21 after the first deal. Blackjack can only be attained on the first deal.\n",
    "\n",
    "`5. ` The Player will never see the Dealer's hand until the Player chooses to 'stand'. A Stand is when the player tells the dealer to not deal it anymore cards. Once the player chooses to Stand, the Player and the Dealer will compare their hands. Whoever has the higher number wins. Keep in mind that the Dealer can also bust. "
   ]
  },
  {
   "cell_type": "code",
   "execution_count": null,
   "metadata": {},
   "outputs": [],
   "source": [
    "suits = ('Clubs', 'Diamonds', 'Spades', 'Hearts ')\n",
    "ranks = ('one', 'two', 'three', 'four', 'five', 'six', 'seven',\n",
    "         'eight', 'nine', 'ten', 'eleven', 'twelve', 'thirteen')\n",
    "value = {'ace': 1, 'two':2, 'three':3, 'four':4, 'five':5, 'six':6, 'seven':7, 'eight':8,\n",
    "        'nine':9, 'ten':10, 'jack':11, 'queen':12, 'king':13, }\n",
    "\n",
    "class Game:\n",
    "    def __init__(self):\n",
    "        pass\n",
    "\n",
    "    def play(self):\n",
    "        playing = True\n",
    "\n",
    "# Class for card\n",
    "class Card:\n",
    "    def __init__(self, suit, rank):    \n",
    "       self.suit = suit,\n",
    "       self.rank = rank\n",
    "\n",
    "    def __repr__(self):\n",
    "        pass\n",
    "\n",
    "#Class\n",
    "class Deck:\n",
    "    def __init__(self,):\n",
    "        self.deck = [] #<---- deck\n",
    "        for suit in suits:\n",
    "            for rank in ranks:\n",
    "                self.deck.append(Card(suit, rank))\n",
    "\n",
    "d = deck()\n",
    "    \n",
    "\n",
    "\n",
    "\n",
    "\n",
    "\n",
    "\n",
    "\n"
   ]
  }
 ],
 "metadata": {
  "kernelspec": {
   "display_name": "Python 3",
   "language": "python",
   "name": "python3"
  },
  "language_info": {
   "codemirror_mode": {
    "name": "ipython",
    "version": 3
   },
   "file_extension": ".py",
   "mimetype": "text/x-python",
   "name": "python",
   "nbconvert_exporter": "python",
   "pygments_lexer": "ipython3",
   "version": "3.9.1"
  }
 },
 "nbformat": 4,
 "nbformat_minor": 2
}
