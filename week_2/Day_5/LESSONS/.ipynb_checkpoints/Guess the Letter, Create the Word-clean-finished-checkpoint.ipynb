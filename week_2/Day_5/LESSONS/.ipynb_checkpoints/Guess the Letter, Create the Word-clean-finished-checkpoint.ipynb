{
 "cells": [
  {
   "cell_type": "markdown",
   "metadata": {},
   "source": [
    "**Create a Letter Guessing Game**\n",
    "\n",
    "Create a program that allows a user 7 chances to guess the correct word. If they do not guess the word after 7 tries, the player loses and the program will print the correct word. Otherwise, the play wins and the game.\n",
    "\n",
    "**How to build the program**\n",
    "* When you start the game, you will need to select a random word from a list of at least 10 words (You have full control over which words you want to use for you program). This will be your secret word. Your secret word will be represented in the program as a group of underscores. For as long as the word is, you should also have that many underscores. \n",
    "\n",
    "* Once the word is selected, your game will commence. Perform a Google search to figure out how to select a random word from a list using Python.<br>\n",
    "**Hint** There's package you can import into your application that does this for you.\n",
    "\n",
    "* The end user will have a total of 7 chances to guess the correct letter from the secret word. If the end user makes 7 incorrect guesses, the game will end.\n",
    "\n",
    "* As you guess the correct letters, the letters you have guess will then take place of the underscores that letter represents. <br>\n",
    "**For Example**: If your secret word is 'watermelon' and  so far you have guessed the letters 'a' and 'e', the word you're trying to guess will appear as follows: _ a _ e _ _ e _ _ _.<br>\n",
    "**Keep in mind** that if you guess a letter that appears more than once in your secret word, make sure that the letter is populated anywhere that letter would be."
   ]
  },
  {
   "cell_type": "code",
   "execution_count": null,
   "metadata": {
    "scrolled": false
   },
   "outputs": [
    {
     "name": "stdout",
     "output_type": "stream",
     "text": [
      "owl\n"
     ]
    }
   ],
   "source": [
    "import random\n",
    "from IPython.display import clear_output as co\n",
    "\n",
    "class Word:\n",
    "    words = ['cat', 'dog', 'owl', 'eagle', 'elephant', 'platypus']\n",
    "    \n",
    "    def __init__(self):\n",
    "        self.known = random.choice(self.words)\n",
    "        self.to_guess = ['_' for _ in list(self.known)]\n",
    "        \n",
    "    def __str__(self):\n",
    "        return self.known\n",
    "\n",
    "class Game:\n",
    "    letter_list = []\n",
    "    guesses = 7\n",
    "    \n",
    "    @classmethod\n",
    "    def game_over(self, w):\n",
    "        print(f'You did not guess the word. Here is the correct word: {w}')\n",
    "    \n",
    "    @classmethod\n",
    "    def run(self):\n",
    "        word = Word()\n",
    "        print(word)\n",
    "        \n",
    "        done = False\n",
    "        while not done:\n",
    "            confirm = input('Press \"ENTER\" to continue. \"Quit\" to exit program. ').lower()\n",
    "            if confirm == 'quit':\n",
    "                break\n",
    "            if '_' not in word.to_guess:\n",
    "                break\n",
    "            if self.guesses == 0:\n",
    "                Game.game_over(word.known)\n",
    "                break\n",
    "            co()\n",
    "            print(' '.join(word.to_guess))\n",
    "            \n",
    "#             if word.known\n",
    "            \n",
    "            print('=' * 50)\n",
    "            print(f'Guesses remaining: {self.guesses}')\n",
    "            guess = input(\"Guess a letter: \")\n",
    "            #loop through letters\n",
    "            if guess in word.to_guess:\n",
    "                for idx, letter in enumerate(word.known):\n",
    "                    #if we guess the correct letter\n",
    "                    if letter == guess:\n",
    "                        #find the index of that letter and replace it\n",
    "                        word.to_guess[idx] = guess\n",
    "            else:\n",
    "                self.guesses -= 1\n",
    "        \n",
    "Game.run()"
   ]
  },
  {
   "cell_type": "code",
   "execution_count": null,
   "metadata": {},
   "outputs": [],
   "source": []
  }
 ],
 "metadata": {
  "kernelspec": {
   "display_name": "Python 3",
   "language": "python",
   "name": "python3"
  },
  "language_info": {
   "codemirror_mode": {
    "name": "ipython",
    "version": 3
   },
   "file_extension": ".py",
   "mimetype": "text/x-python",
   "name": "python",
   "nbconvert_exporter": "python",
   "pygments_lexer": "ipython3",
   "version": "3.9.1"
  }
 },
 "nbformat": 4,
 "nbformat_minor": 2
}
