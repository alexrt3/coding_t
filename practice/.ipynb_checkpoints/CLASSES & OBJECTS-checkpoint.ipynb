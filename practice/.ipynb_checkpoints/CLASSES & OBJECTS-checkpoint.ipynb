{
 "cells": [
  {
   "cell_type": "code",
   "execution_count": 1,
   "id": "affiliated-radical",
   "metadata": {},
   "outputs": [],
   "source": [
    "class Robot:\n",
    "    def __init__(self, name, color, weight):\n",
    "        self.name = name\n",
    "        self.color = color\n",
    "        self.weight = weight\n",
    "        \n",
    "    def introduce_self(self):\n",
    "        print(f' My name is {self.name} and I am the color {self.color} and weight {self.weight} lbs!')"
   ]
  },
  {
   "cell_type": "code",
   "execution_count": 2,
   "id": "universal-multiple",
   "metadata": {},
   "outputs": [],
   "source": [
    "# r1 = Robot()\n",
    "# r1.name = \"Tom\"\n",
    "# r1.color = \"red\"\n",
    "# r1.weight = 30\n",
    "\n",
    "# r2 = Robot()\n",
    "# r2.name = \"Jerry\"\n",
    "# r2.color = \"blue\"\n",
    "# r2.weight = 40\n",
    "\n",
    "# New contructor\n",
    "r1 = Robot(\"Tom\", \"red\", \"30\")\n",
    "r2 = Robot(\"Jerry\", \"blue\", 40)"
   ]
  },
  {
   "cell_type": "code",
   "execution_count": 3,
   "id": "atmospheric-shakespeare",
   "metadata": {},
   "outputs": [
    {
     "name": "stdout",
     "output_type": "stream",
     "text": [
      " My name is Tom and I am the color red and weight 30 lbs!\n",
      " My name is Jerry and I am the color blue and weight 40 lbs!\n"
     ]
    }
   ],
   "source": [
    "r1.introduce_self()\n",
    "r2.introduce_self()"
   ]
  },
  {
   "cell_type": "code",
   "execution_count": 6,
   "id": "electrical-environment",
   "metadata": {},
   "outputs": [],
   "source": [
    "class Person:\n",
    "    def __init__(self, name, personality, is_sitting):\n",
    "        self.name = name\n",
    "        self.personality = personality \n",
    "        self.is_sitting = is_sitting\n",
    "        \n",
    "    def sit_down(self):\n",
    "        self.is_sitting = True\n",
    "    \n",
    "    def stand_up(self):\n",
    "        self.is_sitting = False"
   ]
  },
  {
   "cell_type": "code",
   "execution_count": 9,
   "id": "junior-psychology",
   "metadata": {},
   "outputs": [],
   "source": [
    "p1 = Person(\"Alice\", \"agressive\", False)\n",
    "p2 = Person(\"Becky\", \"talktative\", True)"
   ]
  },
  {
   "cell_type": "code",
   "execution_count": 10,
   "id": "operating-packet",
   "metadata": {},
   "outputs": [],
   "source": [
    "# Show that p1 owns r2 and p2 owns r1'\n",
    "\n",
    "p1.robot_owned = r2\n",
    "p2.robot_owned = r1"
   ]
  },
  {
   "cell_type": "code",
   "execution_count": 13,
   "id": "alien-network",
   "metadata": {},
   "outputs": [
    {
     "name": "stdout",
     "output_type": "stream",
     "text": [
      " My name is Jerry and I am the color blue and weight 40 lbs!\n"
     ]
    }
   ],
   "source": [
    "p1.robot_owned.introduce_self()"
   ]
  },
  {
   "cell_type": "code",
   "execution_count": null,
   "id": "varying-comedy",
   "metadata": {},
   "outputs": [],
   "source": []
  }
 ],
 "metadata": {
  "kernelspec": {
   "display_name": "Python 3",
   "language": "python",
   "name": "python3"
  },
  "language_info": {
   "codemirror_mode": {
    "name": "ipython",
    "version": 3
   },
   "file_extension": ".py",
   "mimetype": "text/x-python",
   "name": "python",
   "nbconvert_exporter": "python",
   "pygments_lexer": "ipython3",
   "version": "3.9.1"
  }
 },
 "nbformat": 4,
 "nbformat_minor": 5
}
