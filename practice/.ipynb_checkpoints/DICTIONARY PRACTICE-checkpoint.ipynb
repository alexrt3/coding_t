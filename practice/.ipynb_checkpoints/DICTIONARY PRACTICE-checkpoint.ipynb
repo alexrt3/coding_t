{
 "cells": [
  {
   "cell_type": "code",
   "execution_count": 1,
   "id": "rocky-trace",
   "metadata": {},
   "outputs": [],
   "source": [
    "d = {}"
   ]
  },
  {
   "cell_type": "code",
   "execution_count": 2,
   "id": "ruled-heading",
   "metadata": {},
   "outputs": [],
   "source": [
    "d[\"George\"] = 24"
   ]
  },
  {
   "cell_type": "code",
   "execution_count": 12,
   "id": "absent-whole",
   "metadata": {},
   "outputs": [],
   "source": [
    "d[\"Tom\"] = 32\n",
    "d[\"Jenny\"] = 16"
   ]
  },
  {
   "cell_type": "code",
   "execution_count": 14,
   "id": "elect-election",
   "metadata": {},
   "outputs": [
    {
     "name": "stdout",
     "output_type": "stream",
     "text": [
      "16\n"
     ]
    }
   ],
   "source": [
    "print(d[\"Jenny\"])"
   ]
  },
  {
   "cell_type": "markdown",
   "id": "initial-extraction",
   "metadata": {},
   "source": [
    "##### Iterate over key value pairs "
   ]
  },
  {
   "cell_type": "code",
   "execution_count": 16,
   "id": "reflected-chapel",
   "metadata": {},
   "outputs": [
    {
     "name": "stdout",
     "output_type": "stream",
     "text": [
      "key: \n",
      "George\n",
      "value: \n",
      "24\n",
      "\n",
      "key: \n",
      "Tom\n",
      "value: \n",
      "32\n",
      "\n",
      "key: \n",
      "Jenny\n",
      "value: \n",
      "16\n",
      "\n"
     ]
    }
   ],
   "source": [
    "for key, value in d.items():\n",
    "    print(\"key: \")\n",
    "    print(key)\n",
    "    print(\"value: \")\n",
    "    print(value)\n",
    "    print(\"\")"
   ]
  },
  {
   "cell_type": "code",
   "execution_count": null,
   "id": "undefined-jonathan",
   "metadata": {},
   "outputs": [],
   "source": []
  }
 ],
 "metadata": {
  "kernelspec": {
   "display_name": "Python 3",
   "language": "python",
   "name": "python3"
  },
  "language_info": {
   "codemirror_mode": {
    "name": "ipython",
    "version": 3
   },
   "file_extension": ".py",
   "mimetype": "text/x-python",
   "name": "python",
   "nbconvert_exporter": "python",
   "pygments_lexer": "ipython3",
   "version": "3.9.1"
  }
 },
 "nbformat": 4,
 "nbformat_minor": 5
}
