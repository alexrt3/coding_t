{
 "cells": [
  {
   "cell_type": "code",
   "execution_count": null,
   "id": "ahead-greene",
   "metadata": {},
   "outputs": [],
   "source": [
    "Find Smallest Number  - (Without min)\n",
    "Create a function that given a list of numbers (non-sorted) find the lowest number in the list and return it.\n",
    "Example Input: [50,30,4,2,11,0]\n",
    "Example Output: 0\n",
    "Example Input 2: [40,3,4,2]\n",
    "Example Output 2: 2\n"
   ]
  },
  {
   "cell_type": "markdown",
   "id": "logical-failure",
   "metadata": {},
   "source": [
    "##### Find the lowest number in list without using the min function"
   ]
  },
  {
   "cell_type": "code",
   "execution_count": 10,
   "id": "agreed-slovakia",
   "metadata": {},
   "outputs": [
    {
     "data": {
      "text/plain": [
       "6"
      ]
     },
     "execution_count": 10,
     "metadata": {},
     "output_type": "execute_result"
    }
   ],
   "source": [
    "list_1 = [900, 6, 24, 17, 20]\n",
    "\n",
    "def min_num(list):\n",
    "    current_min = list_1[0]\n",
    "    for num in list:\n",
    "        if num < current_min:\n",
    "            current_min = num\n",
    "            return current_min\n",
    "        \n",
    "min_num(list_1)"
   ]
  },
  {
   "cell_type": "code",
   "execution_count": 21,
   "id": "broad-advocate",
   "metadata": {},
   "outputs": [
    {
     "data": {
      "text/plain": [
       "6"
      ]
     },
     "execution_count": 21,
     "metadata": {},
     "output_type": "execute_result"
    }
   ],
   "source": [
    "list_1 = [900, 6, 24, 17, 20]\n",
    "\n",
    "def min_num(list):\n",
    "    list_1.sort()\n",
    "    return list_1[0]\n",
    "\n",
    "min_num(list_1)"
   ]
  },
  {
   "cell_type": "code",
   "execution_count": 6,
   "id": "modified-slovak",
   "metadata": {},
   "outputs": [
    {
     "data": {
      "text/plain": [
       "'o'"
      ]
     },
     "execution_count": 6,
     "metadata": {},
     "output_type": "execute_result"
    }
   ],
   "source": [
    "str1 = 'Good morning sir. how are you doing?'\n",
    "\n",
    "str1.split('o')\n"
   ]
  },
  {
   "cell_type": "code",
   "execution_count": 17,
   "id": "historical-titanium",
   "metadata": {},
   "outputs": [
    {
     "ename": "SyntaxError",
     "evalue": "cannot assign to operator (<ipython-input-17-51995c322f90>, line 2)",
     "output_type": "error",
     "traceback": [
      "\u001b[1;36m  File \u001b[1;32m\"<ipython-input-17-51995c322f90>\"\u001b[1;36m, line \u001b[1;32m2\u001b[0m\n\u001b[1;33m    mpg / ppg = ppm\u001b[0m\n\u001b[1;37m    ^\u001b[0m\n\u001b[1;31mSyntaxError\u001b[0m\u001b[1;31m:\u001b[0m cannot assign to operator\n"
     ]
    }
   ],
   "source": [
    "def nba_extrap(ppg, mpg):\n",
    "    mpg / ppg = ppm\n",
    "    return ppm * 48"
   ]
  },
  {
   "cell_type": "code",
   "execution_count": 23,
   "id": "danish-english",
   "metadata": {},
   "outputs": [
    {
     "ename": "ZeroDivisionError",
     "evalue": "division by zero",
     "output_type": "error",
     "traceback": [
      "\u001b[1;31m---------------------------------------------------------------------------\u001b[0m",
      "\u001b[1;31mZeroDivisionError\u001b[0m                         Traceback (most recent call last)",
      "\u001b[1;32m<ipython-input-23-5b5b17d2253e>\u001b[0m in \u001b[0;36m<module>\u001b[1;34m\u001b[0m\n\u001b[0;32m      2\u001b[0m     \u001b[1;32mreturn\u001b[0m \u001b[0mppg\u001b[0m \u001b[1;33m/\u001b[0m \u001b[0mmpg\u001b[0m  \u001b[1;33m*\u001b[0m \u001b[1;36m48\u001b[0m\u001b[1;33m\u001b[0m\u001b[1;33m\u001b[0m\u001b[0m\n\u001b[0;32m      3\u001b[0m \u001b[1;33m\u001b[0m\u001b[0m\n\u001b[1;32m----> 4\u001b[1;33m \u001b[0mnba_extrap\u001b[0m\u001b[1;33m(\u001b[0m\u001b[1;36m0\u001b[0m\u001b[1;33m,\u001b[0m\u001b[1;36m0\u001b[0m\u001b[1;33m)\u001b[0m\u001b[1;33m\u001b[0m\u001b[1;33m\u001b[0m\u001b[0m\n\u001b[0m\u001b[0;32m      5\u001b[0m \u001b[1;33m\u001b[0m\u001b[0m\n\u001b[0;32m      6\u001b[0m \u001b[1;33m\u001b[0m\u001b[0m\n",
      "\u001b[1;32m<ipython-input-23-5b5b17d2253e>\u001b[0m in \u001b[0;36mnba_extrap\u001b[1;34m(ppg, mpg)\u001b[0m\n\u001b[0;32m      1\u001b[0m \u001b[1;32mdef\u001b[0m \u001b[0mnba_extrap\u001b[0m\u001b[1;33m(\u001b[0m\u001b[0mppg\u001b[0m\u001b[1;33m,\u001b[0m \u001b[0mmpg\u001b[0m\u001b[1;33m)\u001b[0m\u001b[1;33m:\u001b[0m\u001b[1;33m\u001b[0m\u001b[1;33m\u001b[0m\u001b[0m\n\u001b[1;32m----> 2\u001b[1;33m     \u001b[1;32mreturn\u001b[0m \u001b[0mppg\u001b[0m \u001b[1;33m/\u001b[0m \u001b[0mmpg\u001b[0m  \u001b[1;33m*\u001b[0m \u001b[1;36m48\u001b[0m\u001b[1;33m\u001b[0m\u001b[1;33m\u001b[0m\u001b[0m\n\u001b[0m\u001b[0;32m      3\u001b[0m \u001b[1;33m\u001b[0m\u001b[0m\n\u001b[0;32m      4\u001b[0m \u001b[0mnba_extrap\u001b[0m\u001b[1;33m(\u001b[0m\u001b[1;36m0\u001b[0m\u001b[1;33m,\u001b[0m\u001b[1;36m0\u001b[0m\u001b[1;33m)\u001b[0m\u001b[1;33m\u001b[0m\u001b[1;33m\u001b[0m\u001b[0m\n\u001b[0;32m      5\u001b[0m \u001b[1;33m\u001b[0m\u001b[0m\n",
      "\u001b[1;31mZeroDivisionError\u001b[0m: division by zero"
     ]
    }
   ],
   "source": [
    "def nba_extrap(ppg, mpg):\n",
    "    return ppg / mpg  * 48\n",
    "\n",
    "nba_extrap(0,0)\n",
    "\n",
    "\n",
    "\n",
    "\n",
    "\n",
    "# test.assert_equals(nba_extrap(12, 20), 28.8)\n",
    "# test.assert_equals(nba_extrap(10, 10), 48.0)\n",
    "# test.assert_equals(nba_extrap(5, 17), 14.1)\n",
    "# test.assert_equals(nba_extrap(0, 0), 0)\n",
    "# test.assert_equals(nba_extrap(30.8, 34.7), 42.6)  # Russell Westbrook 1/15/17\n",
    "# test.assert_equals(nba_extrap(22.9, 33.8), 32.5)  # Kemba Walker 1/15/17"
   ]
  },
  {
   "cell_type": "code",
   "execution_count": 26,
   "id": "after-conclusion",
   "metadata": {},
   "outputs": [
    {
     "data": {
      "text/plain": [
       "0.0"
      ]
     },
     "execution_count": 26,
     "metadata": {},
     "output_type": "execute_result"
    }
   ],
   "source": [
    "0/1"
   ]
  },
  {
   "cell_type": "code",
   "execution_count": 35,
   "id": "living-drinking",
   "metadata": {},
   "outputs": [
    {
     "data": {
      "text/plain": [
       "False"
      ]
     },
     "execution_count": 35,
     "metadata": {},
     "output_type": "execute_result"
    }
   ],
   "source": [
    "def is_divide_by(number, a, b):\n",
    "    if number / a == b:\n",
    "        return True\n",
    "    elif number / b != number:\n",
    "        return False\n",
    "\n",
    "is_divide_by(12, -3, 4)  \n",
    "    \n",
    "    \n",
    "    \n",
    "# test.assert_equals(is_divide_by(8, 2, 4), True)\n",
    "# test.assert_equals(is_divide_by(12, -3, 4), True)\n",
    "# test.assert_equals(is_divide_by(8, 3, 4), False)\n",
    "# test.assert_equals(is_divide_by(48, 2, -5), False)\n",
    "# test.assert_equals(is_divide_by(-100, -25, 10), True)\n",
    "# test.assert_equals(is_divide_by(10000, 5, -3), False)\n",
    "# test.assert_equals(is_divide_by(4, 4, 2), True)\n",
    "# test.assert_equals(is_divide_by(5, 2, 3), False)\n",
    "# test.assert_equals(is_divide_by(-96, 25, 17), False)\n",
    "# test.assert_equals(is_divide_by(33, 1, 33), True)"
   ]
  },
  {
   "cell_type": "code",
   "execution_count": null,
   "id": "southeast-southeast",
   "metadata": {},
   "outputs": [],
   "source": []
  }
 ],
 "metadata": {
  "kernelspec": {
   "display_name": "Python 3",
   "language": "python",
   "name": "python3"
  },
  "language_info": {
   "codemirror_mode": {
    "name": "ipython",
    "version": 3
   },
   "file_extension": ".py",
   "mimetype": "text/x-python",
   "name": "python",
   "nbconvert_exporter": "python",
   "pygments_lexer": "ipython3",
   "version": "3.9.1"
  }
 },
 "nbformat": 4,
 "nbformat_minor": 5
}
