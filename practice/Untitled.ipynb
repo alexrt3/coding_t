{
 "cells": [
  {
   "cell_type": "code",
   "execution_count": 8,
   "id": "olive-spotlight",
   "metadata": {},
   "outputs": [
    {
     "name": "stdout",
     "output_type": "stream",
     "text": [
      "Enter a temperature you would like to convert: (ie 42F or 15C): 0f\n",
      "Invalid Input\n",
      "The temperature in Celsius is  -18  degrees!\n"
     ]
    }
   ],
   "source": [
    "temp = input(\"Enter a temperature you would like to convert: (ie 42F or 15C): \")\n",
    "degrees = int(temp[:-1])\n",
    "temp_letter = temp[-1]\n",
    "\n",
    "\n",
    "if temp_letter.upper() == 'F':\n",
    "    result = int(round((degrees - 32) * 5 / 9))\n",
    "    temp_type = 'Celsius'\n",
    "\n",
    "if temp_letter.upper() == 'C':\n",
    "    result = int(round((degrees * 9/5) + 32))\n",
    "    temp_type = 'Farenheit'\n",
    "else:\n",
    "    print('Invalid Input')\n",
    "    quit()\n",
    "\n",
    "print(\"The temperature in\", temp_type, \"is \", result, \" degrees!\" )"
   ]
  },
  {
   "cell_type": "code",
   "execution_count": null,
   "id": "occupational-mortgage",
   "metadata": {},
   "outputs": [],
   "source": [
    "#Guessing Game - Guess a number from 1-10 - if guessed right exit program\n",
    "\n",
    "import random\n",
    "\n",
    "target_num, guess_num = random.randint(1, 11), 0\n",
    "\n",
    "while target_num != guess_num:\n",
    "    guess_num = int(input('Guess a number from 1-10 until you get it right!: '))\n",
    "print('Good job!')"
   ]
  },
  {
   "cell_type": "code",
   "execution_count": 12,
   "id": "split-advice",
   "metadata": {},
   "outputs": [
    {
     "name": "stdout",
     "output_type": "stream",
     "text": [
      "Enter a word to have it reversed!: hello\n"
     ]
    },
    {
     "data": {
      "text/plain": [
       "'olleh'"
      ]
     },
     "execution_count": 12,
     "metadata": {},
     "output_type": "execute_result"
    }
   ],
   "source": [
    "#Reverse a word\n",
    "\n",
    "a = input(\"Enter a word to have it reversed!: \")\n",
    "a[::-1]\n"
   ]
  },
  {
   "cell_type": "code",
   "execution_count": 20,
   "id": "spiritual-relation",
   "metadata": {},
   "outputs": [
    {
     "name": "stdout",
     "output_type": "stream",
     "text": [
      "1 2 4 5 "
     ]
    }
   ],
   "source": [
    "# Write a Python program that prints all the numbers from 0 to 6 except 3 and 6.\n",
    "# Note : Use 'continue' statement.\n",
    "\n",
    "for i in range(0, 7):\n",
    "    if i % 3 != 0:\n",
    "        print(i, end=' ')"
   ]
  },
  {
   "cell_type": "code",
   "execution_count": 19,
   "id": "fifteen-victoria",
   "metadata": {},
   "outputs": [
    {
     "name": "stdout",
     "output_type": "stream",
     "text": [
      "0 1 2 4 5 \n",
      "\n"
     ]
    }
   ],
   "source": [
    "for x in range(6):\n",
    "    if (x == 3 or x==6):\n",
    "        continue\n",
    "    print(x,end=' ')\n",
    "print(\"\\n\")"
   ]
  },
  {
   "cell_type": "markdown",
   "id": "applied-company",
   "metadata": {},
   "source": [
    "###### Write a Python program to get the Fibonacci series between 0 to 50. Go to the editor\n",
    "Note : The Fibonacci Sequence is the series of numbers :\n",
    "0, 1, 1, 2, 3, 5, 8, 13, 21, ....\n",
    "Every next number is found by adding up the two numbers before it.\n",
    "Expected Output : 1 1 2 3 5 8 13 21 34\n"
   ]
  },
  {
   "cell_type": "code",
   "execution_count": 28,
   "id": "engaged-safety",
   "metadata": {},
   "outputs": [
    {
     "data": {
      "text/plain": [
       "9"
      ]
     },
     "execution_count": 28,
     "metadata": {},
     "output_type": "execute_result"
    }
   ],
   "source": []
  },
  {
   "cell_type": "markdown",
   "id": "eastern-plenty",
   "metadata": {},
   "source": [
    "#### Write a Python program which iterates the integers from 1 to 50. For multiples of three print \"Fizz\" instead of the number and for the multiples of five print \"Buzz\". For numbers which are multiples of both three and five print \"FizzBuzz\".\n"
   ]
  },
  {
   "cell_type": "code",
   "execution_count": 39,
   "id": "acute-couple",
   "metadata": {
    "scrolled": true
   },
   "outputs": [
    {
     "name": "stdout",
     "output_type": "stream",
     "text": [
      "fizzbuzz\n",
      "1\n",
      "2\n",
      "fizz\n",
      "4\n",
      "buzz\n",
      "fizz\n",
      "7\n",
      "8\n",
      "fizz\n",
      "buzz\n",
      "11\n",
      "fizz\n",
      "13\n",
      "14\n",
      "fizzbuzz\n",
      "16\n",
      "17\n",
      "fizz\n",
      "19\n",
      "buzz\n",
      "fizz\n",
      "22\n",
      "23\n",
      "fizz\n",
      "buzz\n",
      "26\n",
      "fizz\n",
      "28\n",
      "29\n",
      "fizzbuzz\n",
      "31\n",
      "32\n",
      "fizz\n",
      "34\n",
      "buzz\n",
      "fizz\n",
      "37\n",
      "38\n",
      "fizz\n",
      "buzz\n",
      "41\n",
      "fizz\n",
      "43\n",
      "44\n",
      "fizzbuzz\n",
      "46\n",
      "47\n",
      "fizz\n",
      "49\n",
      "buzz\n"
     ]
    }
   ],
   "source": [
    "for i in range(51):\n",
    "    if i % 3 == 0 and i % 5 == 0:\n",
    "        print('fizzbuzz')\n",
    "        continue\n",
    "    if i % 3 == 0:\n",
    "        print('fizz')\n",
    "        continue\n",
    "    if i % 5 == 0:\n",
    "        print('buzz')\n",
    "        continue\n",
    "    print(i)"
   ]
  },
  {
   "cell_type": "markdown",
   "id": "increased-station",
   "metadata": {},
   "source": [
    "##### split and join function"
   ]
  },
  {
   "cell_type": "code",
   "execution_count": 45,
   "id": "adequate-world",
   "metadata": {},
   "outputs": [
    {
     "data": {
      "text/plain": [
       "['Hello', 'how', 'are', 'you?']"
      ]
     },
     "execution_count": 45,
     "metadata": {},
     "output_type": "execute_result"
    }
   ],
   "source": [
    "text = 'Hello how are you?'\n",
    "\n",
    "text2 = text.split()\n",
    "\n",
    "text2"
   ]
  },
  {
   "cell_type": "markdown",
   "id": "productive-greek",
   "metadata": {},
   "source": [
    "##### Given a random number as an input to a function, return \"FIZZ\" if the number is even and \"BUZZ\" if the number is odd\n",
    "Example input: 2\n",
    "Example Output: \"FIZZ\""
   ]
  },
  {
   "cell_type": "code",
   "execution_count": 52,
   "id": "greenhouse-stake",
   "metadata": {},
   "outputs": [
    {
     "data": {
      "text/plain": [
       "'fizz'"
      ]
     },
     "execution_count": 52,
     "metadata": {},
     "output_type": "execute_result"
    }
   ],
   "source": [
    "def fizzbuzz(x):\n",
    "    if x % 2 == 0:\n",
    "        return 'fizz'\n",
    "    else:\n",
    "        return 'buzz'\n",
    "    \n",
    "fizzbuzz(2)"
   ]
  },
  {
   "cell_type": "markdown",
   "id": "caring-tribe",
   "metadata": {},
   "source": [
    "#### Find Even numbers\n",
    "Create a function that, given a list as a parameter, finds the even numbers inside the list. The function should then return a list.\n",
    "Example:\n",
    "Input: [2, 7, 10, 11, 12]\n",
    "Output: [2, 10, 12]"
   ]
  },
  {
   "cell_type": "code",
   "execution_count": 62,
   "id": "musical-landscape",
   "metadata": {},
   "outputs": [
    {
     "data": {
      "text/plain": [
       "[2, 10, 12]"
      ]
     },
     "execution_count": 62,
     "metadata": {},
     "output_type": "execute_result"
    }
   ],
   "source": [
    "a_list = [2, 7, 10, 11, 12]\n",
    "new_list = []\n",
    "\n",
    "def even_nums(a_list):\n",
    "    for i in a_list:\n",
    "        if i % 2 == 0:\n",
    "            new_list.append(i)\n",
    "    return new_list\n",
    "    \n",
    "even_nums(a_list)"
   ]
  },
  {
   "cell_type": "markdown",
   "id": "hundred-amazon",
   "metadata": {},
   "source": [
    "##### Remove vowels\n",
    "Write a function that will remove all vowels from a given string. The function should return a string.\n",
    "Example:\n",
    "Input: ‘Joel’\n",
    "Output: ‘Jl’\n",
    "\n",
    "Input: 'Coding Temple'\n",
    "Output: 'Cdng Tmpl'"
   ]
  },
  {
   "cell_type": "code",
   "execution_count": 87,
   "id": "genetic-token",
   "metadata": {},
   "outputs": [
    {
     "name": "stdout",
     "output_type": "stream",
     "text": [
      "Hll, hw s yr dy dng tdy?\n"
     ]
    }
   ],
   "source": [
    "text = 'Hello, how is your day doing today?'\n",
    "vowels = ['a', 'e', 'i', 'o', 'u']\n",
    "\n",
    "def rem_vow(text):\n",
    "    for i in text.lower():\n",
    "        if i in vowels:\n",
    "            text = text.replace(i, \"\")\n",
    "    print(text)\n",
    "    \n",
    "rem_vow(text)"
   ]
  },
  {
   "cell_type": "markdown",
   "id": "choice-lobby",
   "metadata": {},
   "source": [
    "##### CALCULATE BMI"
   ]
  },
  {
   "cell_type": "code",
   "execution_count": 94,
   "id": "similar-kazakhstan",
   "metadata": {},
   "outputs": [
    {
     "data": {
      "text/plain": [
       "'Underweight'"
      ]
     },
     "execution_count": 94,
     "metadata": {},
     "output_type": "execute_result"
    }
   ],
   "source": [
    "def bmi(weight, height):\n",
    "    _bmi = (weight/(height * height))\n",
    "    if _bmi <= 18.5:\n",
    "        return 'Underweight'\n",
    "    elif _bmi <= 25.0:\n",
    "        return 'Normal'\n",
    "    elif _bmi <= 18.5:\n",
    "        return 'Overweight'\n",
    "    elif _bmi <= 30:\n",
    "        return 'Obese'\n",
    "    \n",
    "bmi(180, 60)"
   ]
  },
  {
   "cell_type": "code",
   "execution_count": null,
   "id": "automated-passing",
   "metadata": {},
   "outputs": [],
   "source": [
    "bmi = weight / height2\n",
    "\n",
    "f bmi <= 18.5 return \"Underweight\"\n",
    "\n",
    "if bmi <= 25.0 return \"Normal\"\n",
    "\n",
    "if bmi <= 30.0 return \"Overweight\"\n",
    "\n",
    "if bmi > 30 return \"Obese\""
   ]
  }
 ],
 "metadata": {
  "kernelspec": {
   "display_name": "Python 3",
   "language": "python",
   "name": "python3"
  },
  "language_info": {
   "codemirror_mode": {
    "name": "ipython",
    "version": 3
   },
   "file_extension": ".py",
   "mimetype": "text/x-python",
   "name": "python",
   "nbconvert_exporter": "python",
   "pygments_lexer": "ipython3",
   "version": "3.9.1"
  }
 },
 "nbformat": 4,
 "nbformat_minor": 5
}
